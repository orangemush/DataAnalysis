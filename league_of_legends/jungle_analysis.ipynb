{
 "cells": [
  {
   "cell_type": "code",
   "execution_count": 76,
   "id": "4dbb2882-ac44-40b7-807e-c2b39599a773",
   "metadata": {},
   "outputs": [],
   "source": [
    "import requests\n",
    "import pandas as pd\n",
    "import numpy as np\n",
    "\n",
    "from skimage import io # 미니맵 처리\n",
    "from sklearn.preprocessing import MinMaxScaler"
   ]
  },
  {
   "cell_type": "code",
   "execution_count": 37,
   "id": "a610f745-16a0-43f8-8ad0-917c3f0ea388",
   "metadata": {},
   "outputs": [],
   "source": [
    "# riot api\n",
    "# RGAPI-7878fe8c-f7f2-4e2e-985f-8103910d5e13\n",
    "\n",
    "# RATE LIMITS\n",
    "# 20 requests every 1 seconds(s)\n",
    "# 100 requests every 2 minutes(s)\n",
    "# Note that rate limits are enforced per routing value (e.g., na1, euw1, americas).\n",
    "\n",
    "# kr.api.riotgames.com"
   ]
  },
  {
   "cell_type": "markdown",
   "id": "76a7e016-6ca1-465e-8644-152e3b9ceaff",
   "metadata": {},
   "source": [
    "- 정글 유저 구분하기\n",
    "- 정글 동선 찍어보기 1분 단위라 힘들다.\n",
    "\n",
    "- (미드, 정글), (탑, 정글) 좋은 조합\n",
    "- 각 라인별 잘하는 사람의 특징\n",
    "- 역전을 하기 위해서 가장 중요한 요소"
   ]
  },
  {
   "cell_type": "markdown",
   "id": "22682ee7-a678-458f-9616-e725e77018a9",
   "metadata": {},
   "source": [
    "# 티어별 유저 기본 데이터 가져오기"
   ]
  },
  {
   "cell_type": "code",
   "execution_count": 38,
   "id": "14bf9015-6c59-4720-b3d2-7eea15860103",
   "metadata": {},
   "outputs": [],
   "source": [
    "api_key  = \"RGAPI-11e434d2-459b-46f7-b66e-1b1caf7c91e4\"\n",
    "kr_api   = \"https://kr.api.riotgames.com\"\n",
    "asia_api = \"https://asia.api.riotgames.com\"\n",
    "\n",
    "challenger  = f\"{kr_api}/lol/league/v4/challengerleagues/by-queue/RANKED_SOLO_5x5?api_key={api_key}\"\n",
    "grandmaster = f\"{kr_api}/lol/league/v4/grandmasterleagues/by-queue/RANKED_SOLO_5x5?api_key={api_key}\"\n",
    "\n",
    "# /lol/league/v4/challengerleagues/by-queue/{queue}\n",
    "\n",
    "# r = requests.get(challenger)  # 챌린져 호출\n",
    "r = requests.get(grandmaster) # 그마데이터 호출\n",
    "league_df = pd.DataFrame(r.json())"
   ]
  },
  {
   "cell_type": "code",
   "execution_count": 39,
   "id": "8c0e2175-4bf3-49ce-b47d-2e524c5cd3a8",
   "metadata": {},
   "outputs": [
    {
     "data": {
      "text/html": [
       "<div>\n",
       "<style scoped>\n",
       "    .dataframe tbody tr th:only-of-type {\n",
       "        vertical-align: middle;\n",
       "    }\n",
       "\n",
       "    .dataframe tbody tr th {\n",
       "        vertical-align: top;\n",
       "    }\n",
       "\n",
       "    .dataframe thead th {\n",
       "        text-align: right;\n",
       "    }\n",
       "</style>\n",
       "<table border=\"1\" class=\"dataframe\">\n",
       "  <thead>\n",
       "    <tr style=\"text-align: right;\">\n",
       "      <th></th>\n",
       "      <th>tier</th>\n",
       "      <th>leagueId</th>\n",
       "      <th>queue</th>\n",
       "      <th>name</th>\n",
       "      <th>entries</th>\n",
       "    </tr>\n",
       "  </thead>\n",
       "  <tbody>\n",
       "    <tr>\n",
       "      <th>0</th>\n",
       "      <td>GRANDMASTER</td>\n",
       "      <td>a37af09b-ecb8-3664-9453-cf2b0138dd6e</td>\n",
       "      <td>RANKED_SOLO_5x5</td>\n",
       "      <td>Master Yi's Snipers</td>\n",
       "      <td>{'summonerId': 'wAr9jR-Cf1De03DheOIB403m12luib...</td>\n",
       "    </tr>\n",
       "    <tr>\n",
       "      <th>1</th>\n",
       "      <td>GRANDMASTER</td>\n",
       "      <td>a37af09b-ecb8-3664-9453-cf2b0138dd6e</td>\n",
       "      <td>RANKED_SOLO_5x5</td>\n",
       "      <td>Master Yi's Snipers</td>\n",
       "      <td>{'summonerId': '5HtHQITKqrpzn6qKjck1V29SLQc3HS...</td>\n",
       "    </tr>\n",
       "    <tr>\n",
       "      <th>2</th>\n",
       "      <td>GRANDMASTER</td>\n",
       "      <td>a37af09b-ecb8-3664-9453-cf2b0138dd6e</td>\n",
       "      <td>RANKED_SOLO_5x5</td>\n",
       "      <td>Master Yi's Snipers</td>\n",
       "      <td>{'summonerId': 'WpijOQIPxKJWUQys8KPIT9ZfFkUxRQ...</td>\n",
       "    </tr>\n",
       "  </tbody>\n",
       "</table>\n",
       "</div>"
      ],
      "text/plain": [
       "          tier                              leagueId            queue  \\\n",
       "0  GRANDMASTER  a37af09b-ecb8-3664-9453-cf2b0138dd6e  RANKED_SOLO_5x5   \n",
       "1  GRANDMASTER  a37af09b-ecb8-3664-9453-cf2b0138dd6e  RANKED_SOLO_5x5   \n",
       "2  GRANDMASTER  a37af09b-ecb8-3664-9453-cf2b0138dd6e  RANKED_SOLO_5x5   \n",
       "\n",
       "                  name                                            entries  \n",
       "0  Master Yi's Snipers  {'summonerId': 'wAr9jR-Cf1De03DheOIB403m12luib...  \n",
       "1  Master Yi's Snipers  {'summonerId': '5HtHQITKqrpzn6qKjck1V29SLQc3HS...  \n",
       "2  Master Yi's Snipers  {'summonerId': 'WpijOQIPxKJWUQys8KPIT9ZfFkUxRQ...  "
      ]
     },
     "execution_count": 39,
     "metadata": {},
     "output_type": "execute_result"
    }
   ],
   "source": [
    "league_df.head(3)"
   ]
  },
  {
   "cell_type": "markdown",
   "id": "716c7f3c-f874-491d-b590-ee862d7a2f80",
   "metadata": {},
   "source": [
    "# 소환사 데이터 가져오기"
   ]
  },
  {
   "cell_type": "code",
   "execution_count": 41,
   "id": "e75beec6-6f11-47ce-bb04-3ae69a12ea17",
   "metadata": {},
   "outputs": [],
   "source": [
    "summoner_id = \"JXue7UC14-I2rh7H8TYAUfSxwpo1kw4Ii8dJA4LlVpEajJo\"\n",
    "summoner_name = \"코로나공유\"\n",
    "\n",
    "player1  = f\"{kr_api}/lol/summoner/v4/summoners/{summoner_id}?api_key={api_key}\"\n",
    "response = requests.get(player1)\n",
    "data     = response.json()"
   ]
  },
  {
   "cell_type": "code",
   "execution_count": 42,
   "id": "31dfecad-1f62-4408-affe-cdc1e62e7e95",
   "metadata": {},
   "outputs": [
    {
     "data": {
      "text/plain": [
       "{'id': 'JXue7UC14-I2rh7H8TYAUfSxwpo1kw4Ii8dJA4LlVpEajJo',\n",
       " 'accountId': '5eiUjQC-_2v5pVRd2-4acVLPM0qWl3wYPniCbbpVDcHO-BM',\n",
       " 'puuid': 'jk_O1XQ-1qGCgRv2WoWyyGqI9rhELKVi62wOyOyStLJ1YJRmf1ckCW_J6HGyr0N2Ai7PV6X7hHLgsQ',\n",
       " 'name': '코로나공유',\n",
       " 'profileIconId': 29,\n",
       " 'revisionDate': 1632582638000,\n",
       " 'summonerLevel': 173}"
      ]
     },
     "execution_count": 42,
     "metadata": {},
     "output_type": "execute_result"
    }
   ],
   "source": [
    "data"
   ]
  },
  {
   "cell_type": "code",
   "execution_count": 43,
   "id": "0bc825b7-7581-4511-844e-5b8e8c5637a6",
   "metadata": {},
   "outputs": [],
   "source": [
    "summoner_puuid = data[\"puuid\"]"
   ]
  },
  {
   "cell_type": "code",
   "execution_count": 44,
   "id": "99425f45-c5e5-4e0b-9d40-4cf7127519a6",
   "metadata": {},
   "outputs": [
    {
     "data": {
      "text/plain": [
       "['KR_5476691788',\n",
       " 'KR_5476489810',\n",
       " 'KR_5476449701',\n",
       " 'KR_5476475155',\n",
       " 'KR_5474254376',\n",
       " 'KR_5474322054',\n",
       " 'KR_5474340497',\n",
       " 'KR_5474261454',\n",
       " 'KR_5474194925',\n",
       " 'KR_5474173379',\n",
       " 'KR_5473749448',\n",
       " 'KR_5473639354',\n",
       " 'KR_5471556997',\n",
       " 'KR_5469853340',\n",
       " 'KR_5466288745',\n",
       " 'KR_5466065552',\n",
       " 'KR_5464868768',\n",
       " 'KR_5464567334',\n",
       " 'KR_5464479467',\n",
       " 'KR_5464446203']"
      ]
     },
     "execution_count": 44,
     "metadata": {},
     "output_type": "execute_result"
    }
   ],
   "source": [
    "match_list_api = f\"{asia_api}/lol/match/v5/matches/by-puuid/{summoner_puuid}/ids?api_key={api_key}\"\n",
    "response       = requests.get(match_list_api)\n",
    "match_list     = response.json()\n",
    "\n",
    "# 기본 0부터 20개\n",
    "match_list"
   ]
  },
  {
   "cell_type": "markdown",
   "id": "e03556e4-b7e3-494f-ae63-58cb849da9e8",
   "metadata": {},
   "source": [
    "# match 데이터 가져오기\n",
    "https://developer.riotgames.com/apis#match-v5/GET_getMatch"
   ]
  },
  {
   "cell_type": "code",
   "execution_count": 155,
   "id": "9f5ddbc5-9b91-470c-a943-6f3fa3561cf5",
   "metadata": {},
   "outputs": [],
   "source": [
    "match_data_api   = f\"{asia_api}/lol/match/v5/matches/{match_list[0]}?api_key={api_key}\"\n",
    "response         = requests.get(match_data_api)\n",
    "match_basic_data = response.json()"
   ]
  },
  {
   "cell_type": "code",
   "execution_count": 156,
   "id": "36ade776-4cc3-40ca-8753-39fad0210a71",
   "metadata": {},
   "outputs": [
    {
     "data": {
      "text/plain": [
       "dict_keys(['metadata', 'info'])"
      ]
     },
     "execution_count": 156,
     "metadata": {},
     "output_type": "execute_result"
    }
   ],
   "source": [
    "match_basic_data.keys()"
   ]
  },
  {
   "cell_type": "code",
   "execution_count": 47,
   "id": "e0a9d10e-e893-448a-a5cb-f34d6ed497dc",
   "metadata": {},
   "outputs": [],
   "source": [
    "# matchId와 10명의 플레이어들의 puuid\n",
    "# match_data[\"metadata\"]"
   ]
  },
  {
   "cell_type": "markdown",
   "id": "91b5c0d7-a05b-4444-ae60-130dc5e61fc2",
   "metadata": {},
   "source": [
    "## 시간 변환"
   ]
  },
  {
   "cell_type": "code",
   "execution_count": 167,
   "id": "1570450e-5ca8-45b2-ad89-f9ea0b172905",
   "metadata": {},
   "outputs": [
    {
     "name": "stdout",
     "output_type": "stream",
     "text": [
      "23.760916666666667\n",
      "2021-09-25 21:46:04\n"
     ]
    }
   ],
   "source": [
    "# 소환사의 협곡 map_id == 11\n",
    "\n",
    "# gameDuration 분으로 변환\n",
    "print(1425655 / 1000 / 60)\n",
    "\n",
    "# gameCreation 변환\n",
    "from datetime import datetime\n",
    "ts = int(\"1632606364\")\n",
    "print(datetime.utcfromtimestamp(ts).strftime('%Y-%m-%d %H:%M:%S'))"
   ]
  },
  {
   "cell_type": "code",
   "execution_count": 158,
   "id": "8ef4592c-7db4-423f-a3f6-69c725ed5d7b",
   "metadata": {},
   "outputs": [
    {
     "data": {
      "text/plain": [
       "dict_keys(['gameCreation', 'gameDuration', 'gameId', 'gameMode', 'gameName', 'gameStartTimestamp', 'gameType', 'gameVersion', 'mapId', 'participants', 'platformId', 'queueId', 'teams', 'tournamentCode'])"
      ]
     },
     "execution_count": 158,
     "metadata": {},
     "output_type": "execute_result"
    }
   ],
   "source": [
    "match_basic_data[\"info\"].keys()"
   ]
  },
  {
   "cell_type": "code",
   "execution_count": 200,
   "id": "023815b1-ea3b-4016-b373-7e297d05af0b",
   "metadata": {},
   "outputs": [
    {
     "name": "stdout",
     "output_type": "stream",
     "text": [
      "JUNGLE\n"
     ]
    },
    {
     "data": {
      "text/plain": [
       "{'assists': 13,\n",
       " 'baronKills': 1,\n",
       " 'bountyLevel': 2,\n",
       " 'champExperience': 12794,\n",
       " 'champLevel': 14,\n",
       " 'championId': 163,\n",
       " 'championName': 'Taliyah',\n",
       " 'championTransform': 0,\n",
       " 'consumablesPurchased': 7,\n",
       " 'damageDealtToBuildings': 2616,\n",
       " 'damageDealtToObjectives': 16825,\n",
       " 'damageDealtToTurrets': 2616,\n",
       " 'damageSelfMitigated': 5816,\n",
       " 'deaths': 6,\n",
       " 'detectorWardsPlaced': 6,\n",
       " 'doubleKills': 0,\n",
       " 'dragonKills': 0,\n",
       " 'firstBloodAssist': False,\n",
       " 'firstBloodKill': False,\n",
       " 'firstTowerAssist': False,\n",
       " 'firstTowerKill': False,\n",
       " 'gameEndedInEarlySurrender': False,\n",
       " 'gameEndedInSurrender': False,\n",
       " 'goldEarned': 9500,\n",
       " 'goldSpent': 8450,\n",
       " 'individualPosition': 'JUNGLE',\n",
       " 'inhibitorKills': 0,\n",
       " 'inhibitorTakedowns': 1,\n",
       " 'inhibitorsLost': 0,\n",
       " 'item0': 2421,\n",
       " 'item1': 0,\n",
       " 'item2': 1082,\n",
       " 'item3': 6655,\n",
       " 'item4': 3020,\n",
       " 'item5': 3165,\n",
       " 'item6': 3364,\n",
       " 'itemsPurchased': 21,\n",
       " 'killingSprees': 1,\n",
       " 'kills': 4,\n",
       " 'lane': 'JUNGLE',\n",
       " 'largestCriticalStrike': 0,\n",
       " 'largestKillingSpree': 2,\n",
       " 'largestMultiKill': 1,\n",
       " 'longestTimeSpentLiving': 377,\n",
       " 'magicDamageDealt': 105815,\n",
       " 'magicDamageDealtToChampions': 10223,\n",
       " 'magicDamageTaken': 5955,\n",
       " 'neutralMinionsKilled': 98,\n",
       " 'nexusKills': 0,\n",
       " 'nexusLost': 0,\n",
       " 'nexusTakedowns': 1,\n",
       " 'objectivesStolen': 0,\n",
       " 'objectivesStolenAssists': 0,\n",
       " 'participantId': 2,\n",
       " 'pentaKills': 0,\n",
       " 'perks': {'statPerks': {'defense': 5003, 'flex': 5008, 'offense': 5005},\n",
       "  'styles': [{'description': 'primaryStyle',\n",
       "    'selections': [{'perk': 8128, 'var1': 981, 'var2': 15, 'var3': 0},\n",
       "     {'perk': 8126, 'var1': 488, 'var2': 0, 'var3': 0},\n",
       "     {'perk': 8138, 'var1': 30, 'var2': 0, 'var3': 0},\n",
       "     {'perk': 8135, 'var1': 3419, 'var2': 5, 'var3': 0}],\n",
       "    'style': 8100},\n",
       "   {'description': 'subStyle',\n",
       "    'selections': [{'perk': 8304, 'var1': 9, 'var2': 0, 'var3': 0},\n",
       "     {'perk': 8347, 'var1': 0, 'var2': 0, 'var3': 0}],\n",
       "    'style': 8300}]},\n",
       " 'physicalDamageDealt': 12664,\n",
       " 'physicalDamageDealtToChampions': 1417,\n",
       " 'physicalDamageTaken': 10810,\n",
       " 'profileIcon': 4491,\n",
       " 'puuid': 'wpEvO4swHjW_7-x0rdvib5k34bibIM6ITmQVk30psWbTAxev-Y9qxv2fKXi8rFxsRfna9-O3SPcMEQ',\n",
       " 'quadraKills': 0,\n",
       " 'riotIdName': '',\n",
       " 'riotIdTagline': '',\n",
       " 'role': 'NONE',\n",
       " 'sightWardsBoughtInGame': 0,\n",
       " 'spell1Casts': 142,\n",
       " 'spell2Casts': 36,\n",
       " 'spell3Casts': 78,\n",
       " 'spell4Casts': 10,\n",
       " 'summoner1Casts': 17,\n",
       " 'summoner1Id': 11,\n",
       " 'summoner2Casts': 4,\n",
       " 'summoner2Id': 4,\n",
       " 'summonerId': 'fTh9LDL_AmT__n85N6ZM_fPkGzYex6jiNJH5Mae6mHZGp98',\n",
       " 'summonerLevel': 139,\n",
       " 'summonerName': 'CC서폿 해주세요',\n",
       " 'teamEarlySurrendered': False,\n",
       " 'teamId': 100,\n",
       " 'teamPosition': 'JUNGLE',\n",
       " 'timeCCingOthers': 12,\n",
       " 'timePlayed': 1425,\n",
       " 'totalDamageDealt': 127555,\n",
       " 'totalDamageDealtToChampions': 12777,\n",
       " 'totalDamageShieldedOnTeammates': 0,\n",
       " 'totalDamageTaken': 17295,\n",
       " 'totalHeal': 3955,\n",
       " 'totalHealsOnTeammates': 0,\n",
       " 'totalMinionsKilled': 37,\n",
       " 'totalTimeCCDealt': 345,\n",
       " 'totalTimeSpentDead': 115,\n",
       " 'totalUnitsHealed': 1,\n",
       " 'tripleKills': 0,\n",
       " 'trueDamageDealt': 9075,\n",
       " 'trueDamageDealtToChampions': 1135,\n",
       " 'trueDamageTaken': 529,\n",
       " 'turretKills': 1,\n",
       " 'turretTakedowns': 5,\n",
       " 'turretsLost': 5,\n",
       " 'unrealKills': 0,\n",
       " 'visionScore': 26,\n",
       " 'visionWardsBoughtInGame': 7,\n",
       " 'wardsKilled': 3,\n",
       " 'wardsPlaced': 6,\n",
       " 'win': True}"
      ]
     },
     "execution_count": 200,
     "metadata": {},
     "output_type": "execute_result"
    }
   ],
   "source": [
    "# match_basic_data[\"info\"][\"participants\"][1][\"puuid\"]\n",
    "print(match_basic_data[\"info\"][\"participants\"][1][\"lane\"])\n",
    "match_basic_data[\"info\"][\"participants\"][1]"
   ]
  },
  {
   "cell_type": "code",
   "execution_count": 162,
   "id": "664d9f34-03c6-47e6-a6b5-56c712d6182b",
   "metadata": {},
   "outputs": [
    {
     "name": "stdout",
     "output_type": "stream",
     "text": [
      "dict_keys(['metadata', 'info'])\n",
      "KR\n",
      "420\n",
      "\n"
     ]
    }
   ],
   "source": [
    "print(match_basic_data.keys())\n",
    "print(match_basic_data[\"info\"][\"platformId\"])\n",
    "print(match_basic_data[\"info\"][\"queueId\"])\n",
    "print(match_basic_data[\"info\"][\"tournamentCode\"])\n",
    "# print(match_data[\"info\"][\"teams\"])"
   ]
  },
  {
   "cell_type": "code",
   "execution_count": 51,
   "id": "3fb02bb5-12a4-4a26-a4c3-b54d639a91b3",
   "metadata": {},
   "outputs": [],
   "source": [
    "# 분석해야 될 부분\n",
    "# match_data[\"info\"][\"participants\"]\n",
    "# match_data[\"info\"][\"teams\"]"
   ]
  },
  {
   "cell_type": "code",
   "execution_count": 52,
   "id": "6eb2e651-5f41-428a-b3aa-75c8f323fedf",
   "metadata": {},
   "outputs": [],
   "source": [
    "# match_data[\"info\"][\"participants\"][0]"
   ]
  },
  {
   "cell_type": "markdown",
   "id": "17f71c22-ec5e-477a-8e13-a2c760254308",
   "metadata": {},
   "source": [
    "# 타임라인 match 데이터 가져오기"
   ]
  },
  {
   "cell_type": "code",
   "execution_count": 53,
   "id": "91382ba3-cbe8-492b-8c6c-509c6c2af7cd",
   "metadata": {},
   "outputs": [],
   "source": [
    "timeline_match_api = f\"{asia_api}/lol/match/v5/matches/{match_list[0]}/timeline?api_key={api_key}\"\n",
    "\n",
    "response   = requests.get(timeline_match_api)\n",
    "time_match = response.json()\n",
    "# time_match"
   ]
  },
  {
   "cell_type": "code",
   "execution_count": 54,
   "id": "32661a98-c248-4e8c-9391-e168608c09e1",
   "metadata": {},
   "outputs": [
    {
     "data": {
      "text/plain": [
       "dict_keys(['metadata', 'info'])"
      ]
     },
     "execution_count": 54,
     "metadata": {},
     "output_type": "execute_result"
    }
   ],
   "source": [
    "time_match.keys()"
   ]
  },
  {
   "cell_type": "code",
   "execution_count": 55,
   "id": "6e7b0171-6846-4ae3-8ed0-de041918ab9b",
   "metadata": {},
   "outputs": [
    {
     "data": {
      "text/plain": [
       "{'dataVersion': '2',\n",
       " 'matchId': 'KR_5476691788',\n",
       " 'participants': ['MztfXwjzTvrKkz1j0EvXpNCkULHOSLwv1DFBLmD_pGTKVRa1uvMQsrf2NMFssVxlz2ELaug0AFG03w',\n",
       "  'wpEvO4swHjW_7-x0rdvib5k34bibIM6ITmQVk30psWbTAxev-Y9qxv2fKXi8rFxsRfna9-O3SPcMEQ',\n",
       "  '6N8AZlBp7zpxlgtZMbZw12XTdynjCQvJY7CloVqXRyZAHyoVLq0hjXL1IkNJK0w9R3kDFK2XT5bgyw',\n",
       "  'gTUIm-6pFIv6CQNiCAyps_dAIwcNgg7LUnzY-cXbagiHqfWVfIexl4l2S2l-60YqCgiSnKWii65BEA',\n",
       "  'fphs3Jcef_rsNjGfW3E5vu4tBVYocZFaZ4oSMfvueOWGc4l37eqQ9k_jtweEJ950zBT92-mstTizSg',\n",
       "  'YdvqFr3oRWLlSTXmnqV1tlRT46l7jkwcGaHaF7gdrLgh2T64RVYThZVP5ZEOIHQKu1-00ldhYOqmjg',\n",
       "  'mpvRqYRVSZ3nfgsRhs8hA9XmPWKXtYVRAyvrK9eKx8yOG7OiddkN57yz85sS5ljRvFuygG_dqLmVqg',\n",
       "  'ODlx2EE6YEy6t_FtX174b21XdG3TqxlnL1kS2GfTmyclTnCEawRtFUVaYh0KOj8N7F7qDvIRymSpZQ',\n",
       "  'nzHWte_OsMS6wf0e_LNP5-uIzluyRfEFaOd1AfoeEycqXW7ynQ5b-4gtHvZKnf8iLY5rxqtgujgU1g',\n",
       "  'jk_O1XQ-1qGCgRv2WoWyyGqI9rhELKVi62wOyOyStLJ1YJRmf1ckCW_J6HGyr0N2Ai7PV6X7hHLgsQ']}"
      ]
     },
     "execution_count": 55,
     "metadata": {},
     "output_type": "execute_result"
    }
   ],
   "source": [
    "time_match[\"metadata\"]"
   ]
  },
  {
   "cell_type": "code",
   "execution_count": 56,
   "id": "427e2694-4a30-4890-b86d-4aa22ec5ca1a",
   "metadata": {},
   "outputs": [
    {
     "data": {
      "text/plain": [
       "dict_keys(['frameInterval', 'frames', 'gameId', 'participants'])"
      ]
     },
     "execution_count": 56,
     "metadata": {},
     "output_type": "execute_result"
    }
   ],
   "source": [
    "# frames 분석\n",
    "time_match[\"info\"].keys()"
   ]
  },
  {
   "cell_type": "code",
   "execution_count": 187,
   "id": "a19a1a79-903e-4a4f-b1ce-dfba3fbe5c87",
   "metadata": {},
   "outputs": [
    {
     "data": {
      "text/plain": [
       "[{'participantId': 1,\n",
       "  'puuid': 'MztfXwjzTvrKkz1j0EvXpNCkULHOSLwv1DFBLmD_pGTKVRa1uvMQsrf2NMFssVxlz2ELaug0AFG03w'},\n",
       " {'participantId': 2,\n",
       "  'puuid': 'wpEvO4swHjW_7-x0rdvib5k34bibIM6ITmQVk30psWbTAxev-Y9qxv2fKXi8rFxsRfna9-O3SPcMEQ'},\n",
       " {'participantId': 3,\n",
       "  'puuid': '6N8AZlBp7zpxlgtZMbZw12XTdynjCQvJY7CloVqXRyZAHyoVLq0hjXL1IkNJK0w9R3kDFK2XT5bgyw'},\n",
       " {'participantId': 4,\n",
       "  'puuid': 'gTUIm-6pFIv6CQNiCAyps_dAIwcNgg7LUnzY-cXbagiHqfWVfIexl4l2S2l-60YqCgiSnKWii65BEA'},\n",
       " {'participantId': 5,\n",
       "  'puuid': 'fphs3Jcef_rsNjGfW3E5vu4tBVYocZFaZ4oSMfvueOWGc4l37eqQ9k_jtweEJ950zBT92-mstTizSg'},\n",
       " {'participantId': 6,\n",
       "  'puuid': 'YdvqFr3oRWLlSTXmnqV1tlRT46l7jkwcGaHaF7gdrLgh2T64RVYThZVP5ZEOIHQKu1-00ldhYOqmjg'},\n",
       " {'participantId': 7,\n",
       "  'puuid': 'mpvRqYRVSZ3nfgsRhs8hA9XmPWKXtYVRAyvrK9eKx8yOG7OiddkN57yz85sS5ljRvFuygG_dqLmVqg'},\n",
       " {'participantId': 8,\n",
       "  'puuid': 'ODlx2EE6YEy6t_FtX174b21XdG3TqxlnL1kS2GfTmyclTnCEawRtFUVaYh0KOj8N7F7qDvIRymSpZQ'},\n",
       " {'participantId': 9,\n",
       "  'puuid': 'nzHWte_OsMS6wf0e_LNP5-uIzluyRfEFaOd1AfoeEycqXW7ynQ5b-4gtHvZKnf8iLY5rxqtgujgU1g'},\n",
       " {'participantId': 10,\n",
       "  'puuid': 'jk_O1XQ-1qGCgRv2WoWyyGqI9rhELKVi62wOyOyStLJ1YJRmf1ckCW_J6HGyr0N2Ai7PV6X7hHLgsQ'}]"
      ]
     },
     "execution_count": 187,
     "metadata": {},
     "output_type": "execute_result"
    }
   ],
   "source": [
    "time_match[\"info\"][\"participants\"]"
   ]
  },
  {
   "cell_type": "code",
   "execution_count": 57,
   "id": "4da772b5-008b-4f30-81d5-f7ebb7233057",
   "metadata": {},
   "outputs": [],
   "source": [
    "match_data = time_match[\"info\"][\"frames\"]\n",
    "# match_data.keys()"
   ]
  },
  {
   "cell_type": "code",
   "execution_count": 58,
   "id": "058a4d1e-0072-4ea8-93c4-00ccb14c9f29",
   "metadata": {},
   "outputs": [
    {
     "name": "stdout",
     "output_type": "stream",
     "text": [
      "25\n"
     ]
    },
    {
     "data": {
      "text/plain": [
       "dict_keys(['events', 'participantFrames', 'timestamp'])"
      ]
     },
     "execution_count": 58,
     "metadata": {},
     "output_type": "execute_result"
    }
   ],
   "source": [
    "\"\"\"\n",
    "events: 게임 내에서 발생한 사건 데이터\n",
    "participantFrames: 각 플레이어 인게임 정보\n",
    "timestamp: 기록된 시간(1분마다 기록이 된다.)\n",
    "\n",
    "match_data는 1분 단위로 기록됩니다.\n",
    "\"\"\"\n",
    "print(len(match_data))\n",
    "match_data[0].keys()"
   ]
  },
  {
   "cell_type": "code",
   "execution_count": 109,
   "id": "3d233897-7e6d-4e7f-b3dc-4dff640d5e43",
   "metadata": {},
   "outputs": [
    {
     "data": {
      "text/plain": [
       "1425658"
      ]
     },
     "execution_count": 109,
     "metadata": {},
     "output_type": "execute_result"
    }
   ],
   "source": [
    "# match_data[0][\"participantFrames\"]\n",
    "match_data[24][\"timestamp\"]"
   ]
  },
  {
   "cell_type": "code",
   "execution_count": 143,
   "id": "8126d815-040d-4349-b274-54a4efbe933a",
   "metadata": {},
   "outputs": [
    {
     "data": {
      "text/plain": [
       "dict_keys(['frameInterval', 'frames', 'gameId', 'participants'])"
      ]
     },
     "execution_count": 143,
     "metadata": {},
     "output_type": "execute_result"
    }
   ],
   "source": [
    "time_match[\"info\"].keys()"
   ]
  },
  {
   "cell_type": "code",
   "execution_count": 60,
   "id": "2dade33c-2684-47da-b530-0a40b8902225",
   "metadata": {},
   "outputs": [
    {
     "name": "stdout",
     "output_type": "stream",
     "text": [
      "120019\n",
      "{'x': 1068, 'y': 10892}\n",
      "{'x': 3317, 'y': 7406}\n",
      "{'x': 6096, 'y': 8495}\n",
      "{'x': 11573, 'y': 1749}\n",
      "{'x': 4500, 'y': 9061}\n",
      "{'x': 1188, 'y': 11598}\n",
      "{'x': 3424, 'y': 8705}\n",
      "{'x': 6892, 'y': 8099}\n",
      "{'x': 12880, 'y': 2827}\n",
      "{'x': 12839, 'y': 1836}\n"
     ]
    }
   ],
   "source": [
    "print(match_data[2][\"timestamp\"])\n",
    "# match_data[2][\"participantFrames\"][\"1\"][\"position\"]\n",
    "\n",
    "for order_num in match_data[2][\"participantFrames\"]:\n",
    "    print(match_data[2][\"participantFrames\"][order_num][\"position\"])"
   ]
  },
  {
   "cell_type": "code",
   "execution_count": 205,
   "id": "c8e2ebd8-05dc-4093-b96f-8f413e681ebf",
   "metadata": {},
   "outputs": [
    {
     "data": {
      "text/plain": [
       "[{'itemId': 3145,\n",
       "  'participantId': 7,\n",
       "  'timestamp': 300739,\n",
       "  'type': 'ITEM_PURCHASED'},\n",
       " {'afterId': 0,\n",
       "  'beforeId': 3145,\n",
       "  'goldGain': 1050,\n",
       "  'participantId': 7,\n",
       "  'timestamp': 302125,\n",
       "  'type': 'ITEM_UNDO'},\n",
       " {'itemId': 1043,\n",
       "  'participantId': 3,\n",
       "  'timestamp': 302159,\n",
       "  'type': 'ITEM_PURCHASED'},\n",
       " {'itemId': 1052,\n",
       "  'participantId': 7,\n",
       "  'timestamp': 302753,\n",
       "  'type': 'ITEM_PURCHASED'},\n",
       " {'itemId': 1052,\n",
       "  'participantId': 7,\n",
       "  'timestamp': 302853,\n",
       "  'type': 'ITEM_PURCHASED'},\n",
       " {'itemId': 3057,\n",
       "  'participantId': 9,\n",
       "  'timestamp': 303051,\n",
       "  'type': 'ITEM_PURCHASED'},\n",
       " {'itemId': 3133,\n",
       "  'participantId': 9,\n",
       "  'timestamp': 303647,\n",
       "  'type': 'ITEM_PURCHASED'},\n",
       " {'afterId': 0,\n",
       "  'beforeId': 1043,\n",
       "  'goldGain': 1000,\n",
       "  'participantId': 3,\n",
       "  'timestamp': 304308,\n",
       "  'type': 'ITEM_UNDO'},\n",
       " {'itemId': 1036,\n",
       "  'participantId': 3,\n",
       "  'timestamp': 304802,\n",
       "  'type': 'ITEM_DESTROYED'},\n",
       " {'itemId': 1053,\n",
       "  'participantId': 3,\n",
       "  'timestamp': 304802,\n",
       "  'type': 'ITEM_PURCHASED'},\n",
       " {'itemId': 3070,\n",
       "  'participantId': 9,\n",
       "  'timestamp': 304902,\n",
       "  'type': 'ITEM_PURCHASED'},\n",
       " {'afterId': 0,\n",
       "  'beforeId': 1052,\n",
       "  'goldGain': 435,\n",
       "  'participantId': 7,\n",
       "  'timestamp': 305860,\n",
       "  'type': 'ITEM_UNDO'},\n",
       " {'afterId': 0,\n",
       "  'beforeId': 1052,\n",
       "  'goldGain': 435,\n",
       "  'participantId': 7,\n",
       "  'timestamp': 305992,\n",
       "  'type': 'ITEM_UNDO'},\n",
       " {'itemId': 3145,\n",
       "  'participantId': 7,\n",
       "  'timestamp': 306520,\n",
       "  'type': 'ITEM_PURCHASED'},\n",
       " {'itemId': 1001,\n",
       "  'participantId': 3,\n",
       "  'timestamp': 306652,\n",
       "  'type': 'ITEM_PURCHASED'},\n",
       " {'itemId': 1001,\n",
       "  'participantId': 9,\n",
       "  'timestamp': 310184,\n",
       "  'type': 'ITEM_PURCHASED'},\n",
       " {'itemId': 2055,\n",
       "  'participantId': 10,\n",
       "  'timestamp': 313981,\n",
       "  'type': 'ITEM_DESTROYED'},\n",
       " {'creatorId': 10,\n",
       "  'timestamp': 313981,\n",
       "  'type': 'WARD_PLACED',\n",
       "  'wardType': 'CONTROL_WARD'},\n",
       " {'itemId': 1042,\n",
       "  'participantId': 3,\n",
       "  'timestamp': 317055,\n",
       "  'type': 'ITEM_PURCHASED'},\n",
       " {'level': 4, 'participantId': 2, 'timestamp': 327952, 'type': 'LEVEL_UP'},\n",
       " {'creatorId': 5,\n",
       "  'timestamp': 329075,\n",
       "  'type': 'WARD_PLACED',\n",
       "  'wardType': 'YELLOW_TRINKET'},\n",
       " {'levelUpType': 'NORMAL',\n",
       "  'participantId': 2,\n",
       "  'skillSlot': 1,\n",
       "  'timestamp': 329174,\n",
       "  'type': 'SKILL_LEVEL_UP'},\n",
       " {'level': 4, 'participantId': 5, 'timestamp': 334985, 'type': 'LEVEL_UP'},\n",
       " {'levelUpType': 'NORMAL',\n",
       "  'participantId': 5,\n",
       "  'skillSlot': 1,\n",
       "  'timestamp': 336306,\n",
       "  'type': 'SKILL_LEVEL_UP'},\n",
       " {'killerId': 10,\n",
       "  'timestamp': 336966,\n",
       "  'type': 'WARD_KILL',\n",
       "  'wardType': 'YELLOW_TRINKET'},\n",
       " {'itemId': 2055,\n",
       "  'participantId': 2,\n",
       "  'timestamp': 347136,\n",
       "  'type': 'ITEM_DESTROYED'},\n",
       " {'creatorId': 2,\n",
       "  'timestamp': 347136,\n",
       "  'type': 'WARD_PLACED',\n",
       "  'wardType': 'CONTROL_WARD'},\n",
       " {'level': 6, 'participantId': 6, 'timestamp': 348556, 'type': 'LEVEL_UP'},\n",
       " {'levelUpType': 'NORMAL',\n",
       "  'participantId': 6,\n",
       "  'skillSlot': 4,\n",
       "  'timestamp': 349250,\n",
       "  'type': 'SKILL_LEVEL_UP'},\n",
       " {'creatorId': 4,\n",
       "  'timestamp': 349250,\n",
       "  'type': 'WARD_PLACED',\n",
       "  'wardType': 'YELLOW_TRINKET'},\n",
       " {'level': 4, 'participantId': 1, 'timestamp': 350142, 'type': 'LEVEL_UP'},\n",
       " {'level': 4, 'participantId': 4, 'timestamp': 350605, 'type': 'LEVEL_UP'},\n",
       " {'levelUpType': 'NORMAL',\n",
       "  'participantId': 1,\n",
       "  'skillSlot': 1,\n",
       "  'timestamp': 350737,\n",
       "  'type': 'SKILL_LEVEL_UP'},\n",
       " {'level': 5, 'participantId': 9, 'timestamp': 351894, 'type': 'LEVEL_UP'},\n",
       " {'levelUpType': 'NORMAL',\n",
       "  'participantId': 4,\n",
       "  'skillSlot': 2,\n",
       "  'timestamp': 352488,\n",
       "  'type': 'SKILL_LEVEL_UP'},\n",
       " {'levelUpType': 'NORMAL',\n",
       "  'participantId': 9,\n",
       "  'skillSlot': 1,\n",
       "  'timestamp': 353148,\n",
       "  'type': 'SKILL_LEVEL_UP'},\n",
       " {'bounty': 274,\n",
       "  'killStreakLength': 2,\n",
       "  'killerId': 6,\n",
       "  'position': {'x': 869, 'y': 10581},\n",
       "  'timestamp': 356848,\n",
       "  'type': 'CHAMPION_KILL',\n",
       "  'victimDamageDealt': [{'basic': False,\n",
       "    'magicDamage': 233,\n",
       "    'name': 'Akali',\n",
       "    'participantId': 6,\n",
       "    'physicalDamage': 0,\n",
       "    'spellName': 'akaliq',\n",
       "    'spellSlot': 0,\n",
       "    'trueDamage': 0,\n",
       "    'type': 'OTHER'},\n",
       "   {'basic': True,\n",
       "    'magicDamage': 0,\n",
       "    'name': 'Akali',\n",
       "    'participantId': 6,\n",
       "    'physicalDamage': 49,\n",
       "    'spellName': 'akalip',\n",
       "    'spellSlot': 63,\n",
       "    'trueDamage': 0,\n",
       "    'type': 'OTHER'},\n",
       "   {'basic': False,\n",
       "    'magicDamage': 39,\n",
       "    'name': 'Akali',\n",
       "    'participantId': 6,\n",
       "    'physicalDamage': 0,\n",
       "    'spellName': 'akalip',\n",
       "    'spellSlot': -1,\n",
       "    'trueDamage': 0,\n",
       "    'type': 'OTHER'},\n",
       "   {'basic': False,\n",
       "    'magicDamage': 50,\n",
       "    'name': 'Akali',\n",
       "    'participantId': 6,\n",
       "    'physicalDamage': 0,\n",
       "    'spellName': 'akalie',\n",
       "    'spellSlot': 2,\n",
       "    'trueDamage': 0,\n",
       "    'type': 'OTHER'},\n",
       "   {'basic': False,\n",
       "    'magicDamage': 0,\n",
       "    'name': 'Akali',\n",
       "    'participantId': 6,\n",
       "    'physicalDamage': 0,\n",
       "    'spellName': 'summonerdot',\n",
       "    'spellSlot': 4,\n",
       "    'trueDamage': 26,\n",
       "    'type': 'OTHER'}],\n",
       "  'victimDamageReceived': [{'basic': False,\n",
       "    'magicDamage': 0,\n",
       "    'name': 'Fiora',\n",
       "    'participantId': 6,\n",
       "    'physicalDamage': 0,\n",
       "    'spellName': 'fiorar',\n",
       "    'spellSlot': 3,\n",
       "    'trueDamage': 91,\n",
       "    'type': 'OTHER'},\n",
       "   {'basic': False,\n",
       "    'magicDamage': 0,\n",
       "    'name': 'Fiora',\n",
       "    'participantId': 6,\n",
       "    'physicalDamage': 105,\n",
       "    'spellName': 'fioraq',\n",
       "    'spellSlot': 0,\n",
       "    'trueDamage': 0,\n",
       "    'type': 'OTHER'},\n",
       "   {'basic': False,\n",
       "    'magicDamage': 0,\n",
       "    'name': 'Fiora',\n",
       "    'participantId': 6,\n",
       "    'physicalDamage': 102,\n",
       "    'spellName': 'fiorae',\n",
       "    'spellSlot': 2,\n",
       "    'trueDamage': 0,\n",
       "    'type': 'OTHER'},\n",
       "   {'basic': False,\n",
       "    'magicDamage': 0,\n",
       "    'name': 'Fiora',\n",
       "    'participantId': 6,\n",
       "    'physicalDamage': 74,\n",
       "    'spellName': '6029active',\n",
       "    'spellSlot': 6,\n",
       "    'trueDamage': 0,\n",
       "    'type': 'OTHER'}],\n",
       "  'victimId': 1}]"
      ]
     },
     "execution_count": 205,
     "metadata": {},
     "output_type": "execute_result"
    }
   ],
   "source": [
    "match_data[6][\"events\"]"
   ]
  },
  {
   "cell_type": "code",
   "execution_count": 62,
   "id": "e9e2d6b6-5cf4-4962-ba5c-d318fc94338b",
   "metadata": {},
   "outputs": [
    {
     "name": "stdout",
     "output_type": "stream",
     "text": [
      "https://post-phinf.pstatic.net/MjAxNjEyMTFfMTQ2/MDAxNDgxNDM5NTE4MzE1.TlQRfGduXTSoPr0yHcW4ArdAhPgYfCrI7nFi7IraVoQg.KDQlAEv5r31S0lDXYSsnKJXx6Il0gR1L8xOc_oCKKokg.JPEG/image_6963812281481439508693.jpg?type=w1200\n"
     ]
    }
   ],
   "source": [
    "map_url = \"https://post-phinf.pstatic.net/MjAxNjEyMTFfMTQ2/MDAxNDgxNDM5NTE4MzE1.TlQRfGduXTSoPr0yHcW4ArdAhPgYfCrI7nFi7IraVoQg.KDQlAEv5r31S0lDXYSsnKJXx6Il0gR1L8xOc_oCKKokg.JPEG/image_6963812281481439508693.jpg?type=w1200\"\n",
    "print(map_url)"
   ]
  },
  {
   "cell_type": "code",
   "execution_count": 204,
   "id": "b2a249de-5c43-4852-8523-ef6d090e5395",
   "metadata": {},
   "outputs": [
    {
     "data": {
      "text/plain": [
       "[{'levelUpType': 'NORMAL',\n",
       "  'participantId': 9,\n",
       "  'skillSlot': 1,\n",
       "  'timestamp': 60083,\n",
       "  'type': 'SKILL_LEVEL_UP'},\n",
       " {'creatorId': 7,\n",
       "  'timestamp': 67248,\n",
       "  'type': 'WARD_PLACED',\n",
       "  'wardType': 'YELLOW_TRINKET'},\n",
       " {'levelUpType': 'NORMAL',\n",
       "  'participantId': 6,\n",
       "  'skillSlot': 1,\n",
       "  'timestamp': 70419,\n",
       "  'type': 'SKILL_LEVEL_UP'},\n",
       " {'creatorId': 4,\n",
       "  'timestamp': 73195,\n",
       "  'type': 'WARD_PLACED',\n",
       "  'wardType': 'YELLOW_TRINKET'},\n",
       " {'creatorId': 3,\n",
       "  'timestamp': 86983,\n",
       "  'type': 'WARD_PLACED',\n",
       "  'wardType': 'YELLOW_TRINKET'},\n",
       " {'creatorId': 8,\n",
       "  'timestamp': 93693,\n",
       "  'type': 'WARD_PLACED',\n",
       "  'wardType': 'YELLOW_TRINKET'},\n",
       " {'creatorId': 1,\n",
       "  'timestamp': 96207,\n",
       "  'type': 'WARD_PLACED',\n",
       "  'wardType': 'YELLOW_TRINKET'},\n",
       " {'levelUpType': 'NORMAL',\n",
       "  'participantId': 3,\n",
       "  'skillSlot': 1,\n",
       "  'timestamp': 98155,\n",
       "  'type': 'SKILL_LEVEL_UP'},\n",
       " {'levelUpType': 'NORMAL',\n",
       "  'participantId': 8,\n",
       "  'skillSlot': 1,\n",
       "  'timestamp': 102215,\n",
       "  'type': 'SKILL_LEVEL_UP'},\n",
       " {'levelUpType': 'NORMAL',\n",
       "  'participantId': 10,\n",
       "  'skillSlot': 3,\n",
       "  'timestamp': 105091,\n",
       "  'type': 'SKILL_LEVEL_UP'},\n",
       " {'creatorId': 6,\n",
       "  'timestamp': 107137,\n",
       "  'type': 'WARD_PLACED',\n",
       "  'wardType': 'YELLOW_TRINKET'},\n",
       " {'creatorId': 5,\n",
       "  'timestamp': 107698,\n",
       "  'type': 'WARD_PLACED',\n",
       "  'wardType': 'YELLOW_TRINKET'},\n",
       " {'levelUpType': 'NORMAL',\n",
       "  'participantId': 4,\n",
       "  'skillSlot': 1,\n",
       "  'timestamp': 110341,\n",
       "  'type': 'SKILL_LEVEL_UP'},\n",
       " {'levelUpType': 'NORMAL',\n",
       "  'participantId': 1,\n",
       "  'skillSlot': 3,\n",
       "  'timestamp': 113479,\n",
       "  'type': 'SKILL_LEVEL_UP'},\n",
       " {'itemId': 2003,\n",
       "  'participantId': 1,\n",
       "  'timestamp': 117871,\n",
       "  'type': 'ITEM_DESTROYED'}]"
      ]
     },
     "execution_count": 204,
     "metadata": {},
     "output_type": "execute_result"
    }
   ],
   "source": [
    "# events\n",
    "# participantFrames\n",
    "# timestamp\n",
    "match_data[2][\"events\"]"
   ]
  },
  {
   "cell_type": "code",
   "execution_count": 77,
   "id": "8939c10e-127f-413d-bb57-f5b8aa34f4c3",
   "metadata": {},
   "outputs": [
    {
     "name": "stdout",
     "output_type": "stream",
     "text": [
      "LEVEL_UP 129204\n",
      "SKILL_LEVEL_UP 129898\n",
      "ITEM_DESTROYED 132574\n",
      "LEVEL_UP 138390\n",
      "LEVEL_UP 139050\n",
      "SKILL_LEVEL_UP 139182\n",
      "LEVEL_UP 141396\n",
      "LEVEL_UP 141396\n",
      "LEVEL_UP 141495\n",
      "SKILL_LEVEL_UP 141892\n",
      "SKILL_LEVEL_UP 142157\n",
      "SKILL_LEVEL_UP 142157\n",
      "SKILL_LEVEL_UP 144402\n",
      "ITEM_DESTROYED 146286\n",
      "CHAMPION_KILL 147607\n",
      "CHAMPION_SPECIAL_KILL 147607\n",
      "ITEM_SOLD 149457\n",
      "ITEM_SOLD 149655\n",
      "ITEM_SOLD 149787\n",
      "ITEM_PURCHASED 150612\n",
      "ITEM_PURCHASED 150745\n",
      "ITEM_UNDO 153486\n",
      "ITEM_UNDO 153651\n",
      "ITEM_UNDO 153783\n",
      "LEVEL_UP 154344\n",
      "ITEM_UNDO 154840\n",
      "ITEM_UNDO 154972\n",
      "LEVEL_UP 158116\n",
      "SKILL_LEVEL_UP 159636\n",
      "SKILL_LEVEL_UP 160428\n",
      "LEVEL_UP 168692\n",
      "LEVEL_UP 169353\n",
      "SKILL_LEVEL_UP 170013\n",
      "CHAMPION_KILL 171103\n",
      "SKILL_LEVEL_UP 171400\n",
      "CHAMPION_KILL 178932\n",
      "CHAMPION_SPECIAL_KILL 178932\n",
      "TURRET_PLATE_DESTROYED 179460\n",
      "LEVEL_UP 179460\n",
      "CHAMPION_KILL 179923\n"
     ]
    }
   ],
   "source": [
    "for event in match_data[3][\"events\"]:\n",
    "    print(event[\"type\"], event[\"timestamp\"])"
   ]
  },
  {
   "cell_type": "code",
   "execution_count": 127,
   "id": "acd4a2bc-904b-4178-ae96-e289204b2fcd",
   "metadata": {},
   "outputs": [
    {
     "data": {
      "text/plain": [
       "{'killType': 'KILL_MULTI',\n",
       " 'killerId': 7,\n",
       " 'multiKillLength': 2,\n",
       " 'position': {'x': 1171, 'y': 10172},\n",
       " 'timestamp': 178932,\n",
       " 'type': 'CHAMPION_SPECIAL_KILL'}"
      ]
     },
     "execution_count": 127,
     "metadata": {},
     "output_type": "execute_result"
    }
   ],
   "source": [
    "match_data[3][\"events\"][36]"
   ]
  },
  {
   "cell_type": "code",
   "execution_count": 131,
   "id": "6f8f7057-0d9c-445a-9376-b2f23f11bdb1",
   "metadata": {},
   "outputs": [],
   "source": [
    "# 챔피언 킬 날때 position 나옴\n",
    "# match_data[3][\"events\"][33]"
   ]
  },
  {
   "cell_type": "code",
   "execution_count": 199,
   "id": "154b16ad-45e3-4ab0-ae99-d7355ec668a3",
   "metadata": {},
   "outputs": [
    {
     "data": {
      "text/plain": [
       "{'championStats': {'abilityHaste': 0,\n",
       "  'abilityPower': 0,\n",
       "  'armor': 29,\n",
       "  'armorPen': 0,\n",
       "  'armorPenPercent': 0,\n",
       "  'attackDamage': 84,\n",
       "  'attackSpeed': 100,\n",
       "  'bonusArmorPenPercent': 0,\n",
       "  'bonusMagicPenPercent': 0,\n",
       "  'ccReduction': 5,\n",
       "  'cooldownReduction': 0,\n",
       "  'health': 141,\n",
       "  'healthMax': 580,\n",
       "  'healthRegen': 180,\n",
       "  'lifesteal': 0,\n",
       "  'magicPen': 0,\n",
       "  'magicPenPercent': 0,\n",
       "  'magicResist': 37,\n",
       "  'movementSpeed': 345,\n",
       "  'omnivamp': 0,\n",
       "  'physicalVamp': 0,\n",
       "  'power': 200,\n",
       "  'powerMax': 200,\n",
       "  'powerRegen': 100,\n",
       "  'spellVamp': 0},\n",
       " 'currentGold': 21,\n",
       " 'damageStats': {'magicDamageDone': 154,\n",
       "  'magicDamageDoneToChampions': 154,\n",
       "  'magicDamageTaken': 0,\n",
       "  'physicalDamageDone': 189,\n",
       "  'physicalDamageDoneToChampions': 189,\n",
       "  'physicalDamageTaken': 507,\n",
       "  'totalDamageDone': 343,\n",
       "  'totalDamageDoneToChampions': 343,\n",
       "  'totalDamageTaken': 550,\n",
       "  'trueDamageDone': 0,\n",
       "  'trueDamageDoneToChampions': 0,\n",
       "  'trueDamageTaken': 42},\n",
       " 'goldPerSecond': 0,\n",
       " 'jungleMinionsKilled': 0,\n",
       " 'level': 1,\n",
       " 'minionsKilled': 0,\n",
       " 'participantId': 1,\n",
       " 'position': {'x': 1068, 'y': 10892},\n",
       " 'timeEnemySpentControlled': 0,\n",
       " 'totalGold': 521,\n",
       " 'xp': 181}"
      ]
     },
     "execution_count": 199,
     "metadata": {},
     "output_type": "execute_result"
    }
   ],
   "source": [
    "match_data[2][\"participantFrames\"][\"1\"]"
   ]
  },
  {
   "cell_type": "code",
   "execution_count": null,
   "id": "a8f0a573-986f-4e5f-8572-8c5db207d42d",
   "metadata": {},
   "outputs": [],
   "source": []
  }
 ],
 "metadata": {
  "kernelspec": {
   "display_name": "Python 3 (ipykernel)",
   "language": "python",
   "name": "python3"
  },
  "language_info": {
   "codemirror_mode": {
    "name": "ipython",
    "version": 3
   },
   "file_extension": ".py",
   "mimetype": "text/x-python",
   "name": "python",
   "nbconvert_exporter": "python",
   "pygments_lexer": "ipython3",
   "version": "3.8.10"
  }
 },
 "nbformat": 4,
 "nbformat_minor": 5
}
