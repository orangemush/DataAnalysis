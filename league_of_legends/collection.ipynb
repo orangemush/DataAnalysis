{
 "cells": [
  {
   "cell_type": "markdown",
   "id": "851a83c4-cab7-4fe4-b74e-e600b361d69e",
   "metadata": {},
   "source": [
    "# 분석환경 설정"
   ]
  },
  {
   "cell_type": "code",
   "execution_count": 16,
   "id": "761ca988-b3be-4c8c-accc-3e4577603f17",
   "metadata": {},
   "outputs": [],
   "source": [
    "import requests\n",
    "import json\n",
    "import time\n",
    "import pandas as pd\n",
    "import numpy as np"
   ]
  },
  {
   "cell_type": "code",
   "execution_count": 2,
   "id": "72a6c826-0420-4753-a971-99cbb065c8b5",
   "metadata": {},
   "outputs": [],
   "source": [
    "# RATE LIMITS\n",
    "# 20 requests every 1 seconds(s)\n",
    "# 100 requests every 2 minutes(s)\n",
    "\n",
    "# 플레이어 동선 정확도 높이기\n",
    "# 각 라인별 zone을 좌표로 설정하기\n",
    "# 죽은 챔피언 그 위치에서 좌표가 찍힘. 따라서 킬 로그 먼저 확인한 이후에, 부활하기까지의 시간이 정확히 1분 단위에 포함된다면 좌표를 찍지 말아야 함."
   ]
  },
  {
   "cell_type": "markdown",
   "id": "4489a0e2-8b3b-40d3-9766-b8d1dae6ad88",
   "metadata": {},
   "source": [
    "# 데이터 수집 함수"
   ]
  },
  {
   "cell_type": "markdown",
   "id": "6e1779a5-233c-4553-bee9-5f53e1aefdb8",
   "metadata": {},
   "source": [
    "## 티어별 유저 기본 데이터 가져오기 함수\n",
    "- https://developer.riotgames.com/apis#league-v4\n",
    "- /lol/league/v4/entries/{queue}/{tier}/{division}"
   ]
  },
  {
   "cell_type": "code",
   "execution_count": 21,
   "id": "8f14b1d5-453b-46fc-b216-059d1684a655",
   "metadata": {},
   "outputs": [],
   "source": [
    "def get_player_by_tier(api_key, queue=\"RANKED_SOLO_5x5\", tier=\"challenger\", division=1, page=1):\n",
    "    \"\"\"\n",
    "    티어별 리그데이터를 가져오는 함수입니다.\n",
    "    \n",
    "    api_key : Riot에서 발급받은 api key\n",
    "    queue   : 솔로랭크인지, 듀오랭크인지와 같은 queue type\n",
    "    tier    : 랭크 티어\n",
    "    division: tier에서 더 나뉘는 티어 1~4\n",
    "    page    : 데이터를 가져오려는 기록 페이지\n",
    "    \n",
    "    \"\"\"\n",
    "    high_tier = [\"challenger\", \"grandmaster\", \"master\"]\n",
    "    \n",
    "    # 마스터 이상\n",
    "    if tier in high_tier:\n",
    "        tier_api = f\"{kr_api}/lol/league/v4/{tier}leagues/by-queue/{queue}?page={page}&api_key={api_key}\"\n",
    "        \n",
    "    # 다이아 이하\n",
    "    else:\n",
    "        division = \"I\" * division\n",
    "        tier_api = f\"{kr_api}/lol/league/v4/entries/{queue}/{tier}/{division}?page={page}&api_key={api_key}\"\n",
    "        \n",
    "    data      = requests.get(tier_api).json()\n",
    "    league_df = pd.DataFrame(data)\n",
    "    \n",
    "    return league_df"
   ]
  },
  {
   "cell_type": "markdown",
   "id": "0fc74fb7-a22b-4170-b59f-489a1fcfa2b4",
   "metadata": {},
   "source": [
    "## 소환사 데이터 가져오기 함수\n",
    "https://developer.riotgames.com/apis#account-v1"
   ]
  },
  {
   "cell_type": "code",
   "execution_count": 4,
   "id": "6fc96d32-e606-4d3d-a84e-92827fa6ca3c",
   "metadata": {},
   "outputs": [],
   "source": [
    "def get_summoner_data(api_key, summoner_info, typ=\"id\"):\n",
    "    \"\"\"\n",
    "    소환사에 관한 정보를 가져오는 함수입니다.\n",
    "    \n",
    "    api_key    : Riot에서 발급받은 api key\n",
    "    summoner_id: 소환사 puuid\n",
    "    typ        : 어떤 인자값을 통해 데이터를 가져올 것인지 정합니다. (id, name)\n",
    "    \"\"\"\n",
    "    if typ == \"id\":\n",
    "        summoner_api  = f\"{kr_api}/lol/summoner/v4/summoners/{summoner_info}?api_key={api_key}\"\n",
    "    elif typ == \"name\":\n",
    "        summoner_api  = f\"{kr_api}/lol/summoner/v4/summoners/by-name/{summoner_info}?api_key={api_key}\"\n",
    "        \n",
    "    response      = requests.get(summoner_api)\n",
    "    summoner_data = response.json()\n",
    "    \n",
    "    return summoner_data"
   ]
  },
  {
   "cell_type": "markdown",
   "id": "16ead9dc-92af-4a94-8f30-831ecfc7d4c7",
   "metadata": {},
   "source": [
    "## match 리스트 가져오기 함수\n",
    "- https://developer.riotgames.com/apis#match-v5\n",
    "- /lol/match/v5/matches/by-puuid/{puuid}/ids"
   ]
  },
  {
   "cell_type": "code",
   "execution_count": 5,
   "id": "2e31d657-86f0-49d9-b33d-42e87e66b8df",
   "metadata": {},
   "outputs": [],
   "source": [
    "def get_matches_by_summoner_puuid(api_key, summoner_puuid, start=0, count=20):\n",
    "    \"\"\"\n",
    "    소환사의 puuid로 match list 가져오는 함수입니다.\n",
    "    \n",
    "    api_key       : Riot에서 발급받은 api key\n",
    "    summoner_puuid: Riot에서 제공한 소환사의 고유 ID\n",
    "    start         : 가져올 매치의 시작 index\n",
    "    count         : 가져올 매치의 개수 (max: 0 to 100)\n",
    "    \"\"\"\n",
    "    if count > 100:\n",
    "        raise Exception(\"최대 100개까지 가져올 수 있습니다.\")\n",
    "        \n",
    "    match_list_api = f\"{asia_api}/lol/match/v5/matches/by-puuid/{summoner_puuid}/ids?start={start}&count={count}&api_key={api_key}\"\n",
    "    response       = requests.get(match_list_api)\n",
    "    match_list     = response.json()\n",
    "    \n",
    "    return match_list"
   ]
  },
  {
   "cell_type": "markdown",
   "id": "857eb41b-56e6-4fdb-9b1e-5fde85959142",
   "metadata": {},
   "source": [
    "## match 데이터 가져오기 함수\n",
    "- https://developer.riotgames.com/apis#match-v5/GET_getMatch\n",
    "- /lol/match/v5/matches/{matchId}"
   ]
  },
  {
   "cell_type": "code",
   "execution_count": 13,
   "id": "c19fbb47-4125-42d1-8be7-0166f4460bcf",
   "metadata": {},
   "outputs": [],
   "source": [
    "def get_match_by_match_id(api_key, match_id):\n",
    "    \"\"\"\n",
    "    api_key : 발급받은 api key\n",
    "    match_id: match id\n",
    "    \"\"\"\n",
    "    match_data_api   = f\"{asia_api}/lol/match/v5/matches/{match_id}?api_key={api_key}\"\n",
    "    response         = requests.get(match_data_api)\n",
    "    match_basic_data = response.json()\n",
    "    \n",
    "    return match_basic_data"
   ]
  },
  {
   "cell_type": "markdown",
   "id": "0b840159-cee0-4c36-9b6c-6b0aa50971f7",
   "metadata": {},
   "source": [
    "## 타임라인 match 데이터 가져오기 함수"
   ]
  },
  {
   "cell_type": "code",
   "execution_count": 7,
   "id": "96c385e6-57ae-44fb-927e-c712df900a06",
   "metadata": {},
   "outputs": [],
   "source": [
    "def get_timeline_match_by_match_id(api_key, match_id):\n",
    "    timeline_match_api = f\"{asia_api}/lol/match/v5/matches/{match_id}/timeline?api_key={api_key}\"\n",
    "    response           = requests.get(timeline_match_api)\n",
    "    time_match         = response.json()\n",
    "    \n",
    "    return time_match"
   ]
  },
  {
   "cell_type": "markdown",
   "id": "80f79709-2c77-4637-a0e7-45c1704742ac",
   "metadata": {},
   "source": [
    "## 챔피언 데이터 가져오기 함수"
   ]
  },
  {
   "cell_type": "code",
   "execution_count": 8,
   "id": "4ac04455-1cbd-49c3-926f-92da500b1c7a",
   "metadata": {},
   "outputs": [],
   "source": [
    "def get_all_champion_data(version=\"11.19.1\"):\n",
    "    champion_api = f\"https://ddragon.leagueoflegends.com/cdn/{version}/data/ko_KR/champion.json\"\n",
    "    response = reuqests.get(champion_api)\n",
    "    return response.json()"
   ]
  },
  {
   "cell_type": "markdown",
   "id": "dd5eb0ce-364f-4559-aabe-da757d7dc51e",
   "metadata": {},
   "source": [
    "# 데이터 가져오기"
   ]
  },
  {
   "cell_type": "markdown",
   "id": "3fd689e2-42fe-40ae-b911-be8cb8d9f831",
   "metadata": {},
   "source": [
    "- 20 requests every 1 seconds(s)\n",
    "- 100 requests every 2 minutes(s)"
   ]
  },
  {
   "cell_type": "code",
   "execution_count": 9,
   "id": "2d632fd1-4a81-43d3-b509-57a6a8c57bd6",
   "metadata": {},
   "outputs": [],
   "source": [
    "# # 리그에 존재하는 유저 데이터 가져오기 (챌 300개, 그마 700개, 마스터 3400개)\n",
    "# league_df = get_player_by_tier(api_key, tier=\"challenger\", page=1)\n",
    "\n",
    "# # 소환사 데이터 가져오기\n",
    "# summoner_id    = league_df[\"entries\"][0][\"summonerId\"]\n",
    "# summoner_data  = get_summoner_data(api_key, summoner_id)\n",
    "# summoner_puuid = summoner_data[\"puuid\"]\n",
    "\n",
    "# # match_list 가져오기\n",
    "# match_list = get_matches_by_summoner_puuid(api_key, summoner_puuid, start=0, count=20)\n",
    "\n",
    "# # 기본 match 데이터 가져오기\n",
    "# match_num = 3\n",
    "# match_id  = match_list[match_num]\n",
    "# match_basic_data = get_match_by_match_id(api_key, match_id)\n",
    "\n",
    "# # timeline match 데이터 가져오기\n",
    "# time_match = get_timeline_match_by_match_id(api_key, match_id)\n",
    "# time_match"
   ]
  },
  {
   "cell_type": "code",
   "execution_count": 13,
   "id": "0d91f4d5-9bfe-45d9-9526-b1259c6cd25c",
   "metadata": {},
   "outputs": [],
   "source": [
    "basic_matches = {}\n",
    "time_matches  = {}\n",
    "page        = 8\n",
    "high_tier   = [\"challenger\", \"grandmaster\", \"master\"]\n",
    "\n",
    "challenger_df  = get_player_by_tier(api_key, tier=\"challenger\", page=page)\n",
    "grandmaster_df = get_player_by_tier(api_key, tier=\"grandmaster\", page=page)\n",
    "master_df      = get_player_by_tier(api_key, tier=\"master\", page=page)\n",
    "\n",
    "league_df = challenger_df.append([grandmaster_df, master_df]).reset_index(drop=True)"
   ]
  },
  {
   "cell_type": "code",
   "execution_count": 10,
   "id": "96cf15f8-56b3-4d2f-824f-f967e240b995",
   "metadata": {},
   "outputs": [],
   "source": [
    "count = 0\n",
    "for i in league_df.index:    \n",
    "    # 소환사 데이터 가져오기\n",
    "    pause_sign = 0\n",
    "    \n",
    "    summoner_id    = league_df[\"entries\"][i][\"summonerId\"]\n",
    "    summoner_data  = get_summoner_data(api_key, summoner_id)\n",
    "    summoner_puuid = summoner_data[\"puuid\"]\n",
    "\n",
    "    # match_list 가져오기\n",
    "    match_list = get_matches_by_summoner_puuid(api_key, summoner_puuid, start=0, count=30)\n",
    "\n",
    "    # 기본 match 데이터 가져오기\n",
    "    for match_id in match_list:            \n",
    "        # 기본 매치 데이터 가져오기\n",
    "        match_basic_data = get_match_by_match_id(api_key, match_id)\n",
    "\n",
    "        # timeline match 데이터 가져오기\n",
    "        time_match = get_timeline_match_by_match_id(api_key, match_id)\n",
    "\n",
    "        # 데이터 저장하기\n",
    "        basic_matches[match_id] = match_basic_data\n",
    "        time_matches[match_id]  = time_match\n",
    "        \n",
    "        if count % 100 == 0:\n",
    "            print(count)\n",
    "        \n",
    "        # 1000개만 갖고오기\n",
    "        if count == 1000:\n",
    "            pause_sign = 1\n",
    "            break\n",
    "        count += 1\n",
    "        \n",
    "    if pause_sign == 1:\n",
    "        break"
   ]
  },
  {
   "cell_type": "code",
   "execution_count": 23,
   "id": "7f942d9f-4cb8-47fd-b8f4-62868a05b14a",
   "metadata": {},
   "outputs": [],
   "source": [
    "with open(\"data/basic_matches_1000.json\", \"w\") as file:\n",
    "    json.dump(basic_matches, file)\n",
    "    \n",
    "with open(\"data/time_matches_1000.json\", \"w\") as file:\n",
    "    json.dump(time_matches, file)"
   ]
  }
 ],
 "metadata": {
  "kernelspec": {
   "display_name": "Python 3 (ipykernel)",
   "language": "python",
   "name": "python3"
  },
  "language_info": {
   "codemirror_mode": {
    "name": "ipython",
    "version": 3
   },
   "file_extension": ".py",
   "mimetype": "text/x-python",
   "name": "python",
   "nbconvert_exporter": "python",
   "pygments_lexer": "ipython3",
   "version": "3.8.12"
  }
 },
 "nbformat": 4,
 "nbformat_minor": 5
}
