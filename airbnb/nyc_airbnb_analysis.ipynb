{
 "cells": [
  {
   "cell_type": "markdown",
   "id": "78629596-9ca1-4c8a-b848-37233ea5a396",
   "metadata": {},
   "source": [
    "# 에어비앤비 가격 예측을 통한 숙박 가격에 미치는 요인 분석\n",
    "\n",
    "대회 링크 <br>\n",
    "https://www.kaggle.com/dgomonov/new-york-city-airbnb-open-data <br>\n",
    "\n",
    "nyc traffic volumne 2014-2019 <br>\n",
    "https://data.cityofnewyork.us/Transportation/Traffic-Volume-Counts-2014-2019-/ertz-hr4r\n",
    "\n",
    "nyc taxi data <br>\n",
    "https://www1.nyc.gov/site/tlc/about/tlc-trip-record-data.page"
   ]
  },
  {
   "cell_type": "code",
   "execution_count": 1,
   "id": "21f3b7f0-a976-432b-a1e7-c2c2e4ffebff",
   "metadata": {},
   "outputs": [],
   "source": [
    "# airbnb 택시가 다니는 경로에 만약 에어비엔비가 많다면?"
   ]
  },
  {
   "cell_type": "markdown",
   "id": "9cfbc0fd-7de7-4ba2-a97a-08f75deccd26",
   "metadata": {},
   "source": [
    "# Inspiration\n",
    "- What can we learn about different hosts and areas?\n",
    "- What can we learn from predictions? (ex: locations, prices, reviews, etc)\n",
    "- Which hosts are the busiest and why?\n",
    "- Is there any noticeable difference of traffic among different areas and what could be the reason for it?"
   ]
  },
  {
   "cell_type": "markdown",
   "id": "d967bffe-5651-42b4-92d6-8f64506a8bd2",
   "metadata": {},
   "source": [
    "# 1. 라이브러리 및 모듈 불러오기"
   ]
  },
  {
   "cell_type": "code",
   "execution_count": 88,
   "id": "0b8e44a0-e581-4633-8b01-4780f91f1e93",
   "metadata": {},
   "outputs": [],
   "source": [
    "import pandas as pd\n",
    "import numpy as np\n",
    "import seaborn as sns\n",
    "from os.path import join"
   ]
  },
  {
   "cell_type": "markdown",
   "id": "2ab7ed04-5e2d-49fa-bf42-56d3238eec88",
   "metadata": {},
   "source": [
    "# 2. 데이터 가져오기"
   ]
  },
  {
   "cell_type": "code",
   "execution_count": 89,
   "id": "98d66eda-2060-4397-bf24-ed9463aa3268",
   "metadata": {},
   "outputs": [],
   "source": [
    "data_path = join(\"data\", \"AB_NYC_2019.csv\")\n",
    "airbnb_df = pd.read_csv(data_path)"
   ]
  },
  {
   "cell_type": "code",
   "execution_count": 90,
   "id": "44f03458-fd82-4aa9-8cb9-2342c3733f10",
   "metadata": {},
   "outputs": [
    {
     "name": "stdout",
     "output_type": "stream",
     "text": [
      "(48895, 16)\n"
     ]
    },
    {
     "data": {
      "text/html": [
       "<div>\n",
       "<style scoped>\n",
       "    .dataframe tbody tr th:only-of-type {\n",
       "        vertical-align: middle;\n",
       "    }\n",
       "\n",
       "    .dataframe tbody tr th {\n",
       "        vertical-align: top;\n",
       "    }\n",
       "\n",
       "    .dataframe thead th {\n",
       "        text-align: right;\n",
       "    }\n",
       "</style>\n",
       "<table border=\"1\" class=\"dataframe\">\n",
       "  <thead>\n",
       "    <tr style=\"text-align: right;\">\n",
       "      <th></th>\n",
       "      <th>id</th>\n",
       "      <th>name</th>\n",
       "      <th>host_id</th>\n",
       "      <th>host_name</th>\n",
       "      <th>neighbourhood_group</th>\n",
       "      <th>neighbourhood</th>\n",
       "      <th>latitude</th>\n",
       "      <th>longitude</th>\n",
       "      <th>room_type</th>\n",
       "      <th>price</th>\n",
       "      <th>minimum_nights</th>\n",
       "      <th>number_of_reviews</th>\n",
       "      <th>last_review</th>\n",
       "      <th>reviews_per_month</th>\n",
       "      <th>calculated_host_listings_count</th>\n",
       "      <th>availability_365</th>\n",
       "    </tr>\n",
       "  </thead>\n",
       "  <tbody>\n",
       "    <tr>\n",
       "      <th>0</th>\n",
       "      <td>2539</td>\n",
       "      <td>Clean &amp; quiet apt home by the park</td>\n",
       "      <td>2787</td>\n",
       "      <td>John</td>\n",
       "      <td>Brooklyn</td>\n",
       "      <td>Kensington</td>\n",
       "      <td>40.64749</td>\n",
       "      <td>-73.97237</td>\n",
       "      <td>Private room</td>\n",
       "      <td>149</td>\n",
       "      <td>1</td>\n",
       "      <td>9</td>\n",
       "      <td>2018-10-19</td>\n",
       "      <td>0.21</td>\n",
       "      <td>6</td>\n",
       "      <td>365</td>\n",
       "    </tr>\n",
       "    <tr>\n",
       "      <th>1</th>\n",
       "      <td>2595</td>\n",
       "      <td>Skylit Midtown Castle</td>\n",
       "      <td>2845</td>\n",
       "      <td>Jennifer</td>\n",
       "      <td>Manhattan</td>\n",
       "      <td>Midtown</td>\n",
       "      <td>40.75362</td>\n",
       "      <td>-73.98377</td>\n",
       "      <td>Entire home/apt</td>\n",
       "      <td>225</td>\n",
       "      <td>1</td>\n",
       "      <td>45</td>\n",
       "      <td>2019-05-21</td>\n",
       "      <td>0.38</td>\n",
       "      <td>2</td>\n",
       "      <td>355</td>\n",
       "    </tr>\n",
       "    <tr>\n",
       "      <th>2</th>\n",
       "      <td>3647</td>\n",
       "      <td>THE VILLAGE OF HARLEM....NEW YORK !</td>\n",
       "      <td>4632</td>\n",
       "      <td>Elisabeth</td>\n",
       "      <td>Manhattan</td>\n",
       "      <td>Harlem</td>\n",
       "      <td>40.80902</td>\n",
       "      <td>-73.94190</td>\n",
       "      <td>Private room</td>\n",
       "      <td>150</td>\n",
       "      <td>3</td>\n",
       "      <td>0</td>\n",
       "      <td>NaN</td>\n",
       "      <td>NaN</td>\n",
       "      <td>1</td>\n",
       "      <td>365</td>\n",
       "    </tr>\n",
       "  </tbody>\n",
       "</table>\n",
       "</div>"
      ],
      "text/plain": [
       "     id                                 name  host_id  host_name  \\\n",
       "0  2539   Clean & quiet apt home by the park     2787       John   \n",
       "1  2595                Skylit Midtown Castle     2845   Jennifer   \n",
       "2  3647  THE VILLAGE OF HARLEM....NEW YORK !     4632  Elisabeth   \n",
       "\n",
       "  neighbourhood_group neighbourhood  latitude  longitude        room_type  \\\n",
       "0            Brooklyn    Kensington  40.64749  -73.97237     Private room   \n",
       "1           Manhattan       Midtown  40.75362  -73.98377  Entire home/apt   \n",
       "2           Manhattan        Harlem  40.80902  -73.94190     Private room   \n",
       "\n",
       "   price  minimum_nights  number_of_reviews last_review  reviews_per_month  \\\n",
       "0    149               1                  9  2018-10-19               0.21   \n",
       "1    225               1                 45  2019-05-21               0.38   \n",
       "2    150               3                  0         NaN                NaN   \n",
       "\n",
       "   calculated_host_listings_count  availability_365  \n",
       "0                               6               365  \n",
       "1                               2               355  \n",
       "2                               1               365  "
      ]
     },
     "execution_count": 90,
     "metadata": {},
     "output_type": "execute_result"
    }
   ],
   "source": [
    "print(airbnb_df.shape)\n",
    "airbnb_df.head(3)"
   ]
  },
  {
   "cell_type": "code",
   "execution_count": 167,
   "id": "c7c685e2-429f-4110-9f56-d763d2270092",
   "metadata": {},
   "outputs": [
    {
     "data": {
      "text/plain": [
       "219517861    327\n",
       "107434423    232\n",
       "30283594     121\n",
       "137358866    103\n",
       "16098958      96\n",
       "            ... \n",
       "26676357       1\n",
       "43311385       1\n",
       "544621         1\n",
       "21573063       1\n",
       "68119814       1\n",
       "Name: host_id, Length: 37425, dtype: int64"
      ]
     },
     "execution_count": 167,
     "metadata": {},
     "output_type": "execute_result"
    }
   ],
   "source": [
    "airbnb_df[\"host_id\"].value_counts()"
   ]
  },
  {
   "cell_type": "code",
   "execution_count": 91,
   "id": "6755eafb-24a7-44a6-a3db-6006daa264f7",
   "metadata": {},
   "outputs": [
    {
     "name": "stdout",
     "output_type": "stream",
     "text": [
      "<class 'pandas.core.frame.DataFrame'>\n",
      "RangeIndex: 48895 entries, 0 to 48894\n",
      "Data columns (total 16 columns):\n",
      " #   Column                          Non-Null Count  Dtype  \n",
      "---  ------                          --------------  -----  \n",
      " 0   id                              48895 non-null  int64  \n",
      " 1   name                            48879 non-null  object \n",
      " 2   host_id                         48895 non-null  int64  \n",
      " 3   host_name                       48874 non-null  object \n",
      " 4   neighbourhood_group             48895 non-null  object \n",
      " 5   neighbourhood                   48895 non-null  object \n",
      " 6   latitude                        48895 non-null  float64\n",
      " 7   longitude                       48895 non-null  float64\n",
      " 8   room_type                       48895 non-null  object \n",
      " 9   price                           48895 non-null  int64  \n",
      " 10  minimum_nights                  48895 non-null  int64  \n",
      " 11  number_of_reviews               48895 non-null  int64  \n",
      " 12  last_review                     38843 non-null  object \n",
      " 13  reviews_per_month               38843 non-null  float64\n",
      " 14  calculated_host_listings_count  48895 non-null  int64  \n",
      " 15  availability_365                48895 non-null  int64  \n",
      "dtypes: float64(3), int64(7), object(6)\n",
      "memory usage: 6.0+ MB\n"
     ]
    }
   ],
   "source": [
    "airbnb_df.info()"
   ]
  },
  {
   "cell_type": "markdown",
   "id": "22588861-ac69-449f-855c-e7afcaa9ae46",
   "metadata": {},
   "source": [
    "# 3. 결측치 처리"
   ]
  },
  {
   "cell_type": "markdown",
   "id": "7e8a0748-b2d9-4cc7-a54c-bcc3950e2fb5",
   "metadata": {},
   "source": [
    "## 3.1 name, host_name 결측치 데이터 처리"
   ]
  },
  {
   "cell_type": "markdown",
   "id": "d0d84b9a-7818-4f35-9886-5a1dcac34a69",
   "metadata": {},
   "source": [
    "**<div style=\"font-size: 16px\">현재 분석에선 다음 2가지 이유로 name, host_name 결측치 데이터를 제거하도록 하겠습니다.</div>**\n",
    "- 가게명과 호스트 이름은 중요의 여부를 떠나 결측치가 존재하는 데이터는 사용할 수 없습니다.\n",
    "- 전체 48895개의 데이터 중 37개 데이터는 전체 데이터에 크게 영향을 미치지 않을거라 판단했습니다."
   ]
  },
  {
   "cell_type": "code",
   "execution_count": 92,
   "id": "8a590598-9e90-4a44-ba48-73ccc10f5f6e",
   "metadata": {},
   "outputs": [
    {
     "data": {
      "text/plain": [
       "id                                    0\n",
       "name                                 16\n",
       "host_id                               0\n",
       "host_name                            21\n",
       "neighbourhood_group                   0\n",
       "neighbourhood                         0\n",
       "latitude                              0\n",
       "longitude                             0\n",
       "room_type                             0\n",
       "price                                 0\n",
       "minimum_nights                        0\n",
       "number_of_reviews                     0\n",
       "last_review                       10052\n",
       "reviews_per_month                 10052\n",
       "calculated_host_listings_count        0\n",
       "availability_365                      0\n",
       "dtype: int64"
      ]
     },
     "execution_count": 92,
     "metadata": {},
     "output_type": "execute_result"
    }
   ],
   "source": [
    "airbnb_df.isnull().sum()"
   ]
  },
  {
   "cell_type": "code",
   "execution_count": 93,
   "id": "1d66bcf8-7bd2-4784-9584-f1d265040547",
   "metadata": {},
   "outputs": [],
   "source": [
    "airbnb_df = airbnb_df.loc[~(airbnb_df[\"name\"].isnull() | airbnb_df[\"host_name\"].isnull()), :]\n",
    "airbnb_df = airbnb_df.reset_index(drop=True)"
   ]
  },
  {
   "cell_type": "code",
   "execution_count": 94,
   "id": "4fe2f8d0-1e24-4f2c-afe5-1e40c4ce7bbf",
   "metadata": {},
   "outputs": [
    {
     "data": {
      "text/plain": [
       "id                                    0\n",
       "name                                  0\n",
       "host_id                               0\n",
       "host_name                             0\n",
       "neighbourhood_group                   0\n",
       "neighbourhood                         0\n",
       "latitude                              0\n",
       "longitude                             0\n",
       "room_type                             0\n",
       "price                                 0\n",
       "minimum_nights                        0\n",
       "number_of_reviews                     0\n",
       "last_review                       10037\n",
       "reviews_per_month                 10037\n",
       "calculated_host_listings_count        0\n",
       "availability_365                      0\n",
       "dtype: int64"
      ]
     },
     "execution_count": 94,
     "metadata": {},
     "output_type": "execute_result"
    }
   ],
   "source": [
    "# 잘 처리 되었는지 확인합니다.\n",
    "airbnb_df.isnull().sum()"
   ]
  },
  {
   "cell_type": "markdown",
   "id": "0d9a2ec0-702f-46bb-aa57-ce66c4542d3e",
   "metadata": {},
   "source": [
    "## 3.2 last_review, reviews_per_month 결측치 처리"
   ]
  },
  {
   "cell_type": "markdown",
   "id": "cce39c7e-1d9a-4f8c-9de2-5ce4ff7d37c0",
   "metadata": {},
   "source": [
    "- 마지막 리뷰가 없는 데이터가 왜 존재할까 생각해봤을 때, 애초에 리뷰가 없는 상품일 수 있습니다. <br>\n",
    "또한 만약 애초에 리뷰가 없는 상품이라면 자연스럽게 월별 리뷰 수도 결측치일 것입니다. <br>\n",
    "추측이 맞는지 검증해보도록 하겠습니다."
   ]
  },
  {
   "cell_type": "code",
   "execution_count": 95,
   "id": "51806140-a4b0-4670-b645-8bd224893973",
   "metadata": {},
   "outputs": [
    {
     "data": {
      "text/plain": [
       "0"
      ]
     },
     "execution_count": 95,
     "metadata": {},
     "output_type": "execute_result"
    }
   ],
   "source": [
    "airbnb_df[airbnb_df[\"last_review\"].isnull()][\"number_of_reviews\"].max()"
   ]
  },
  {
   "cell_type": "code",
   "execution_count": 96,
   "id": "78b39349-30c8-4949-8408-8eab315d15f9",
   "metadata": {},
   "outputs": [
    {
     "data": {
      "text/plain": [
       "True"
      ]
     },
     "execution_count": 96,
     "metadata": {},
     "output_type": "execute_result"
    }
   ],
   "source": [
    "# last_review가 없으면 reviews_per_month도 없습니다.\n",
    "list(airbnb_df[airbnb_df[\"last_review\"].isnull()].index) == list(airbnb_df[airbnb_df[\"reviews_per_month\"].isnull()].index)"
   ]
  },
  {
   "cell_type": "markdown",
   "id": "825ae0aa-69f1-42d2-8e84-d3ec61dc35ea",
   "metadata": {},
   "source": [
    "- 마지막 리뷰 날짜 데이터를 연월일로 나눈 다음, 결측치를 한 번에 0으로 처리하겠습니다."
   ]
  },
  {
   "cell_type": "code",
   "execution_count": 97,
   "id": "4d9bdbd2-7b9f-420b-980a-c0c9e8e7e95d",
   "metadata": {},
   "outputs": [
    {
     "data": {
      "text/html": [
       "<div>\n",
       "<style scoped>\n",
       "    .dataframe tbody tr th:only-of-type {\n",
       "        vertical-align: middle;\n",
       "    }\n",
       "\n",
       "    .dataframe tbody tr th {\n",
       "        vertical-align: top;\n",
       "    }\n",
       "\n",
       "    .dataframe thead th {\n",
       "        text-align: right;\n",
       "    }\n",
       "</style>\n",
       "<table border=\"1\" class=\"dataframe\">\n",
       "  <thead>\n",
       "    <tr style=\"text-align: right;\">\n",
       "      <th></th>\n",
       "      <th>id</th>\n",
       "      <th>name</th>\n",
       "      <th>host_id</th>\n",
       "      <th>host_name</th>\n",
       "      <th>neighbourhood_group</th>\n",
       "      <th>neighbourhood</th>\n",
       "      <th>latitude</th>\n",
       "      <th>longitude</th>\n",
       "      <th>room_type</th>\n",
       "      <th>price</th>\n",
       "      <th>minimum_nights</th>\n",
       "      <th>number_of_reviews</th>\n",
       "      <th>reviews_per_month</th>\n",
       "      <th>calculated_host_listings_count</th>\n",
       "      <th>availability_365</th>\n",
       "      <th>last_review_year</th>\n",
       "      <th>last_review_month</th>\n",
       "      <th>last_review_day</th>\n",
       "    </tr>\n",
       "  </thead>\n",
       "  <tbody>\n",
       "    <tr>\n",
       "      <th>0</th>\n",
       "      <td>2539</td>\n",
       "      <td>Clean &amp; quiet apt home by the park</td>\n",
       "      <td>2787</td>\n",
       "      <td>John</td>\n",
       "      <td>Brooklyn</td>\n",
       "      <td>Kensington</td>\n",
       "      <td>40.64749</td>\n",
       "      <td>-73.97237</td>\n",
       "      <td>Private room</td>\n",
       "      <td>149</td>\n",
       "      <td>1</td>\n",
       "      <td>9</td>\n",
       "      <td>0.21</td>\n",
       "      <td>6</td>\n",
       "      <td>365</td>\n",
       "      <td>2018.0</td>\n",
       "      <td>10.0</td>\n",
       "      <td>19.0</td>\n",
       "    </tr>\n",
       "    <tr>\n",
       "      <th>1</th>\n",
       "      <td>2595</td>\n",
       "      <td>Skylit Midtown Castle</td>\n",
       "      <td>2845</td>\n",
       "      <td>Jennifer</td>\n",
       "      <td>Manhattan</td>\n",
       "      <td>Midtown</td>\n",
       "      <td>40.75362</td>\n",
       "      <td>-73.98377</td>\n",
       "      <td>Entire home/apt</td>\n",
       "      <td>225</td>\n",
       "      <td>1</td>\n",
       "      <td>45</td>\n",
       "      <td>0.38</td>\n",
       "      <td>2</td>\n",
       "      <td>355</td>\n",
       "      <td>2019.0</td>\n",
       "      <td>5.0</td>\n",
       "      <td>21.0</td>\n",
       "    </tr>\n",
       "    <tr>\n",
       "      <th>2</th>\n",
       "      <td>3647</td>\n",
       "      <td>THE VILLAGE OF HARLEM....NEW YORK !</td>\n",
       "      <td>4632</td>\n",
       "      <td>Elisabeth</td>\n",
       "      <td>Manhattan</td>\n",
       "      <td>Harlem</td>\n",
       "      <td>40.80902</td>\n",
       "      <td>-73.94190</td>\n",
       "      <td>Private room</td>\n",
       "      <td>150</td>\n",
       "      <td>3</td>\n",
       "      <td>0</td>\n",
       "      <td>NaN</td>\n",
       "      <td>1</td>\n",
       "      <td>365</td>\n",
       "      <td>NaN</td>\n",
       "      <td>NaN</td>\n",
       "      <td>NaN</td>\n",
       "    </tr>\n",
       "  </tbody>\n",
       "</table>\n",
       "</div>"
      ],
      "text/plain": [
       "     id                                 name  host_id  host_name  \\\n",
       "0  2539   Clean & quiet apt home by the park     2787       John   \n",
       "1  2595                Skylit Midtown Castle     2845   Jennifer   \n",
       "2  3647  THE VILLAGE OF HARLEM....NEW YORK !     4632  Elisabeth   \n",
       "\n",
       "  neighbourhood_group neighbourhood  latitude  longitude        room_type  \\\n",
       "0            Brooklyn    Kensington  40.64749  -73.97237     Private room   \n",
       "1           Manhattan       Midtown  40.75362  -73.98377  Entire home/apt   \n",
       "2           Manhattan        Harlem  40.80902  -73.94190     Private room   \n",
       "\n",
       "   price  minimum_nights  number_of_reviews  reviews_per_month  \\\n",
       "0    149               1                  9               0.21   \n",
       "1    225               1                 45               0.38   \n",
       "2    150               3                  0                NaN   \n",
       "\n",
       "   calculated_host_listings_count  availability_365  last_review_year  \\\n",
       "0                               6               365            2018.0   \n",
       "1                               2               355            2019.0   \n",
       "2                               1               365               NaN   \n",
       "\n",
       "   last_review_month  last_review_day  \n",
       "0               10.0             19.0  \n",
       "1                5.0             21.0  \n",
       "2                NaN              NaN  "
      ]
     },
     "execution_count": 97,
     "metadata": {},
     "output_type": "execute_result"
    }
   ],
   "source": [
    "airbnb_df[\"last_review\"]       = airbnb_df[\"last_review\"].astype(\"datetime64\")\n",
    "airbnb_df[\"last_review_year\"]  = airbnb_df[\"last_review\"].dt.year\n",
    "airbnb_df[\"last_review_month\"] = airbnb_df[\"last_review\"].dt.month\n",
    "airbnb_df[\"last_review_day\"]   = airbnb_df[\"last_review\"].dt.day\n",
    "\n",
    "airbnb_df = airbnb_df.drop([\"last_review\"], axis=1)\n",
    "airbnb_df.head(3)"
   ]
  },
  {
   "cell_type": "code",
   "execution_count": 98,
   "id": "909387d4-fb4a-4f07-91c0-91928acc5efb",
   "metadata": {},
   "outputs": [
    {
     "data": {
      "text/plain": [
       "id                                    0\n",
       "name                                  0\n",
       "host_id                               0\n",
       "host_name                             0\n",
       "neighbourhood_group                   0\n",
       "neighbourhood                         0\n",
       "latitude                              0\n",
       "longitude                             0\n",
       "room_type                             0\n",
       "price                                 0\n",
       "minimum_nights                        0\n",
       "number_of_reviews                     0\n",
       "reviews_per_month                 10037\n",
       "calculated_host_listings_count        0\n",
       "availability_365                      0\n",
       "last_review_year                  10037\n",
       "last_review_month                 10037\n",
       "last_review_day                   10037\n",
       "dtype: int64"
      ]
     },
     "execution_count": 98,
     "metadata": {},
     "output_type": "execute_result"
    }
   ],
   "source": [
    "airbnb_df.isnull().sum()"
   ]
  },
  {
   "cell_type": "code",
   "execution_count": 99,
   "id": "5f49a197-2e87-435b-9cdc-3d01878558ac",
   "metadata": {},
   "outputs": [
    {
     "data": {
      "text/plain": [
       "id                                0\n",
       "name                              0\n",
       "host_id                           0\n",
       "host_name                         0\n",
       "neighbourhood_group               0\n",
       "neighbourhood                     0\n",
       "latitude                          0\n",
       "longitude                         0\n",
       "room_type                         0\n",
       "price                             0\n",
       "minimum_nights                    0\n",
       "number_of_reviews                 0\n",
       "reviews_per_month                 0\n",
       "calculated_host_listings_count    0\n",
       "availability_365                  0\n",
       "last_review_year                  0\n",
       "last_review_month                 0\n",
       "last_review_day                   0\n",
       "dtype: int64"
      ]
     },
     "execution_count": 99,
     "metadata": {},
     "output_type": "execute_result"
    }
   ],
   "source": [
    "airbnb_df = airbnb_df.fillna(0)\n",
    "airbnb_df.isnull().sum()"
   ]
  },
  {
   "cell_type": "code",
   "execution_count": 100,
   "id": "232eb178-48e2-475c-a060-ec311172dac0",
   "metadata": {},
   "outputs": [
    {
     "data": {
      "text/html": [
       "<div>\n",
       "<style scoped>\n",
       "    .dataframe tbody tr th:only-of-type {\n",
       "        vertical-align: middle;\n",
       "    }\n",
       "\n",
       "    .dataframe tbody tr th {\n",
       "        vertical-align: top;\n",
       "    }\n",
       "\n",
       "    .dataframe thead th {\n",
       "        text-align: right;\n",
       "    }\n",
       "</style>\n",
       "<table border=\"1\" class=\"dataframe\">\n",
       "  <thead>\n",
       "    <tr style=\"text-align: right;\">\n",
       "      <th></th>\n",
       "      <th>id</th>\n",
       "      <th>name</th>\n",
       "      <th>host_id</th>\n",
       "      <th>host_name</th>\n",
       "      <th>neighbourhood_group</th>\n",
       "      <th>neighbourhood</th>\n",
       "      <th>latitude</th>\n",
       "      <th>longitude</th>\n",
       "      <th>room_type</th>\n",
       "      <th>price</th>\n",
       "      <th>minimum_nights</th>\n",
       "      <th>number_of_reviews</th>\n",
       "      <th>reviews_per_month</th>\n",
       "      <th>calculated_host_listings_count</th>\n",
       "      <th>availability_365</th>\n",
       "      <th>last_review_year</th>\n",
       "      <th>last_review_month</th>\n",
       "      <th>last_review_day</th>\n",
       "    </tr>\n",
       "  </thead>\n",
       "  <tbody>\n",
       "    <tr>\n",
       "      <th>0</th>\n",
       "      <td>2539</td>\n",
       "      <td>Clean &amp; quiet apt home by the park</td>\n",
       "      <td>2787</td>\n",
       "      <td>John</td>\n",
       "      <td>Brooklyn</td>\n",
       "      <td>Kensington</td>\n",
       "      <td>40.64749</td>\n",
       "      <td>-73.97237</td>\n",
       "      <td>Private room</td>\n",
       "      <td>149</td>\n",
       "      <td>1</td>\n",
       "      <td>9</td>\n",
       "      <td>0.21</td>\n",
       "      <td>6</td>\n",
       "      <td>365</td>\n",
       "      <td>2018.0</td>\n",
       "      <td>10.0</td>\n",
       "      <td>19.0</td>\n",
       "    </tr>\n",
       "    <tr>\n",
       "      <th>1</th>\n",
       "      <td>2595</td>\n",
       "      <td>Skylit Midtown Castle</td>\n",
       "      <td>2845</td>\n",
       "      <td>Jennifer</td>\n",
       "      <td>Manhattan</td>\n",
       "      <td>Midtown</td>\n",
       "      <td>40.75362</td>\n",
       "      <td>-73.98377</td>\n",
       "      <td>Entire home/apt</td>\n",
       "      <td>225</td>\n",
       "      <td>1</td>\n",
       "      <td>45</td>\n",
       "      <td>0.38</td>\n",
       "      <td>2</td>\n",
       "      <td>355</td>\n",
       "      <td>2019.0</td>\n",
       "      <td>5.0</td>\n",
       "      <td>21.0</td>\n",
       "    </tr>\n",
       "    <tr>\n",
       "      <th>2</th>\n",
       "      <td>3647</td>\n",
       "      <td>THE VILLAGE OF HARLEM....NEW YORK !</td>\n",
       "      <td>4632</td>\n",
       "      <td>Elisabeth</td>\n",
       "      <td>Manhattan</td>\n",
       "      <td>Harlem</td>\n",
       "      <td>40.80902</td>\n",
       "      <td>-73.94190</td>\n",
       "      <td>Private room</td>\n",
       "      <td>150</td>\n",
       "      <td>3</td>\n",
       "      <td>0</td>\n",
       "      <td>0.00</td>\n",
       "      <td>1</td>\n",
       "      <td>365</td>\n",
       "      <td>0.0</td>\n",
       "      <td>0.0</td>\n",
       "      <td>0.0</td>\n",
       "    </tr>\n",
       "  </tbody>\n",
       "</table>\n",
       "</div>"
      ],
      "text/plain": [
       "     id                                 name  host_id  host_name  \\\n",
       "0  2539   Clean & quiet apt home by the park     2787       John   \n",
       "1  2595                Skylit Midtown Castle     2845   Jennifer   \n",
       "2  3647  THE VILLAGE OF HARLEM....NEW YORK !     4632  Elisabeth   \n",
       "\n",
       "  neighbourhood_group neighbourhood  latitude  longitude        room_type  \\\n",
       "0            Brooklyn    Kensington  40.64749  -73.97237     Private room   \n",
       "1           Manhattan       Midtown  40.75362  -73.98377  Entire home/apt   \n",
       "2           Manhattan        Harlem  40.80902  -73.94190     Private room   \n",
       "\n",
       "   price  minimum_nights  number_of_reviews  reviews_per_month  \\\n",
       "0    149               1                  9               0.21   \n",
       "1    225               1                 45               0.38   \n",
       "2    150               3                  0               0.00   \n",
       "\n",
       "   calculated_host_listings_count  availability_365  last_review_year  \\\n",
       "0                               6               365            2018.0   \n",
       "1                               2               355            2019.0   \n",
       "2                               1               365               0.0   \n",
       "\n",
       "   last_review_month  last_review_day  \n",
       "0               10.0             19.0  \n",
       "1                5.0             21.0  \n",
       "2                0.0              0.0  "
      ]
     },
     "execution_count": 100,
     "metadata": {},
     "output_type": "execute_result"
    }
   ],
   "source": [
    "airbnb_df.head(3)"
   ]
  },
  {
   "cell_type": "markdown",
   "id": "a2b0eeb4-3d44-4c20-abf9-767828a235c2",
   "metadata": {},
   "source": [
    "# 4. 둘러보기"
   ]
  },
  {
   "cell_type": "markdown",
   "id": "4511bc46-0321-48b3-b9ea-7771365bf0e4",
   "metadata": {},
   "source": [
    "- correlation을 출력했을 때, price와 상관관계가 존재하는 변수는 없는 것을 볼 수 있습니다."
   ]
  },
  {
   "cell_type": "code",
   "execution_count": 121,
   "id": "c8b8e6ff-c0d2-4cfa-96ff-617c092ea289",
   "metadata": {},
   "outputs": [
    {
     "data": {
      "text/plain": [
       "id                                0.010564\n",
       "host_id                           0.015328\n",
       "latitude                          0.033944\n",
       "longitude                        -0.149954\n",
       "price                             1.000000\n",
       "minimum_nights                    0.042804\n",
       "number_of_reviews                -0.047949\n",
       "reviews_per_month                -0.050586\n",
       "calculated_host_listings_count    0.057460\n",
       "availability_365                  0.081817\n",
       "last_review_year                 -0.085220\n",
       "last_review_month                -0.061363\n",
       "last_review_day                  -0.054289\n",
       "dtype: float64"
      ]
     },
     "execution_count": 121,
     "metadata": {},
     "output_type": "execute_result"
    }
   ],
   "source": [
    "airbnb_df.corrwith(airbnb_df[\"price\"])"
   ]
  },
  {
   "cell_type": "code",
   "execution_count": 133,
   "id": "bdfeb34f-8eda-40db-b7a0-221fa48b4200",
   "metadata": {},
   "outputs": [
    {
     "data": {
      "text/html": [
       "<div>\n",
       "<style scoped>\n",
       "    .dataframe tbody tr th:only-of-type {\n",
       "        vertical-align: middle;\n",
       "    }\n",
       "\n",
       "    .dataframe tbody tr th {\n",
       "        vertical-align: top;\n",
       "    }\n",
       "\n",
       "    .dataframe thead th {\n",
       "        text-align: right;\n",
       "    }\n",
       "</style>\n",
       "<table border=\"1\" class=\"dataframe\">\n",
       "  <thead>\n",
       "    <tr style=\"text-align: right;\">\n",
       "      <th></th>\n",
       "      <th>id</th>\n",
       "      <th>name</th>\n",
       "      <th>host_id</th>\n",
       "      <th>host_name</th>\n",
       "      <th>neighbourhood_group</th>\n",
       "      <th>neighbourhood</th>\n",
       "      <th>latitude</th>\n",
       "      <th>longitude</th>\n",
       "      <th>room_type</th>\n",
       "      <th>price</th>\n",
       "      <th>minimum_nights</th>\n",
       "      <th>number_of_reviews</th>\n",
       "      <th>reviews_per_month</th>\n",
       "      <th>calculated_host_listings_count</th>\n",
       "      <th>availability_365</th>\n",
       "      <th>last_review_year</th>\n",
       "      <th>last_review_month</th>\n",
       "      <th>last_review_day</th>\n",
       "    </tr>\n",
       "  </thead>\n",
       "  <tbody>\n",
       "    <tr>\n",
       "      <th>0</th>\n",
       "      <td>2539</td>\n",
       "      <td>Clean &amp; quiet apt home by the park</td>\n",
       "      <td>2787</td>\n",
       "      <td>John</td>\n",
       "      <td>Brooklyn</td>\n",
       "      <td>Kensington</td>\n",
       "      <td>40.64749</td>\n",
       "      <td>-73.97237</td>\n",
       "      <td>Private room</td>\n",
       "      <td>149</td>\n",
       "      <td>1</td>\n",
       "      <td>9</td>\n",
       "      <td>0.21</td>\n",
       "      <td>6</td>\n",
       "      <td>365</td>\n",
       "      <td>2018.0</td>\n",
       "      <td>10.0</td>\n",
       "      <td>19.0</td>\n",
       "    </tr>\n",
       "    <tr>\n",
       "      <th>1</th>\n",
       "      <td>2595</td>\n",
       "      <td>Skylit Midtown Castle</td>\n",
       "      <td>2845</td>\n",
       "      <td>Jennifer</td>\n",
       "      <td>Manhattan</td>\n",
       "      <td>Midtown</td>\n",
       "      <td>40.75362</td>\n",
       "      <td>-73.98377</td>\n",
       "      <td>Entire home/apt</td>\n",
       "      <td>225</td>\n",
       "      <td>1</td>\n",
       "      <td>45</td>\n",
       "      <td>0.38</td>\n",
       "      <td>2</td>\n",
       "      <td>355</td>\n",
       "      <td>2019.0</td>\n",
       "      <td>5.0</td>\n",
       "      <td>21.0</td>\n",
       "    </tr>\n",
       "    <tr>\n",
       "      <th>2</th>\n",
       "      <td>3647</td>\n",
       "      <td>THE VILLAGE OF HARLEM....NEW YORK !</td>\n",
       "      <td>4632</td>\n",
       "      <td>Elisabeth</td>\n",
       "      <td>Manhattan</td>\n",
       "      <td>Harlem</td>\n",
       "      <td>40.80902</td>\n",
       "      <td>-73.94190</td>\n",
       "      <td>Private room</td>\n",
       "      <td>150</td>\n",
       "      <td>3</td>\n",
       "      <td>0</td>\n",
       "      <td>0.00</td>\n",
       "      <td>1</td>\n",
       "      <td>365</td>\n",
       "      <td>0.0</td>\n",
       "      <td>0.0</td>\n",
       "      <td>0.0</td>\n",
       "    </tr>\n",
       "    <tr>\n",
       "      <th>3</th>\n",
       "      <td>3831</td>\n",
       "      <td>Cozy Entire Floor of Brownstone</td>\n",
       "      <td>4869</td>\n",
       "      <td>LisaRoxanne</td>\n",
       "      <td>Brooklyn</td>\n",
       "      <td>Clinton Hill</td>\n",
       "      <td>40.68514</td>\n",
       "      <td>-73.95976</td>\n",
       "      <td>Entire home/apt</td>\n",
       "      <td>89</td>\n",
       "      <td>1</td>\n",
       "      <td>270</td>\n",
       "      <td>4.64</td>\n",
       "      <td>1</td>\n",
       "      <td>194</td>\n",
       "      <td>2019.0</td>\n",
       "      <td>7.0</td>\n",
       "      <td>5.0</td>\n",
       "    </tr>\n",
       "    <tr>\n",
       "      <th>4</th>\n",
       "      <td>5022</td>\n",
       "      <td>Entire Apt: Spacious Studio/Loft by central park</td>\n",
       "      <td>7192</td>\n",
       "      <td>Laura</td>\n",
       "      <td>Manhattan</td>\n",
       "      <td>East Harlem</td>\n",
       "      <td>40.79851</td>\n",
       "      <td>-73.94399</td>\n",
       "      <td>Entire home/apt</td>\n",
       "      <td>80</td>\n",
       "      <td>10</td>\n",
       "      <td>9</td>\n",
       "      <td>0.10</td>\n",
       "      <td>1</td>\n",
       "      <td>0</td>\n",
       "      <td>2018.0</td>\n",
       "      <td>11.0</td>\n",
       "      <td>19.0</td>\n",
       "    </tr>\n",
       "  </tbody>\n",
       "</table>\n",
       "</div>"
      ],
      "text/plain": [
       "     id                                              name  host_id  \\\n",
       "0  2539                Clean & quiet apt home by the park     2787   \n",
       "1  2595                             Skylit Midtown Castle     2845   \n",
       "2  3647               THE VILLAGE OF HARLEM....NEW YORK !     4632   \n",
       "3  3831                   Cozy Entire Floor of Brownstone     4869   \n",
       "4  5022  Entire Apt: Spacious Studio/Loft by central park     7192   \n",
       "\n",
       "     host_name neighbourhood_group neighbourhood  latitude  longitude  \\\n",
       "0         John            Brooklyn    Kensington  40.64749  -73.97237   \n",
       "1     Jennifer           Manhattan       Midtown  40.75362  -73.98377   \n",
       "2    Elisabeth           Manhattan        Harlem  40.80902  -73.94190   \n",
       "3  LisaRoxanne            Brooklyn  Clinton Hill  40.68514  -73.95976   \n",
       "4        Laura           Manhattan   East Harlem  40.79851  -73.94399   \n",
       "\n",
       "         room_type  price  minimum_nights  number_of_reviews  \\\n",
       "0     Private room    149               1                  9   \n",
       "1  Entire home/apt    225               1                 45   \n",
       "2     Private room    150               3                  0   \n",
       "3  Entire home/apt     89               1                270   \n",
       "4  Entire home/apt     80              10                  9   \n",
       "\n",
       "   reviews_per_month  calculated_host_listings_count  availability_365  \\\n",
       "0               0.21                               6               365   \n",
       "1               0.38                               2               355   \n",
       "2               0.00                               1               365   \n",
       "3               4.64                               1               194   \n",
       "4               0.10                               1                 0   \n",
       "\n",
       "   last_review_year  last_review_month  last_review_day  \n",
       "0            2018.0               10.0             19.0  \n",
       "1            2019.0                5.0             21.0  \n",
       "2               0.0                0.0              0.0  \n",
       "3            2019.0                7.0              5.0  \n",
       "4            2018.0               11.0             19.0  "
      ]
     },
     "execution_count": 133,
     "metadata": {},
     "output_type": "execute_result"
    }
   ],
   "source": [
    "airbnb_df.head()"
   ]
  },
  {
   "cell_type": "code",
   "execution_count": 162,
   "id": "9b929e34-3adc-4684-9ae7-326e5c584d4a",
   "metadata": {},
   "outputs": [
    {
     "name": "stdout",
     "output_type": "stream",
     "text": [
      "746\n",
      "4505\n"
     ]
    }
   ],
   "source": [
    "# airbnb_df[\"minimum_nights\"][airbnb_df[\"minimum_nights\"] > 30]\n",
    "print((airbnb_df[\"minimum_nights\"] > 30).sum())\n",
    "print((airbnb_df[\"minimum_nights\"] >= 30).sum())"
   ]
  },
  {
   "cell_type": "code",
   "execution_count": 171,
   "id": "0d95de21-d531-4b1a-b108-3ec3bba22bfd",
   "metadata": {},
   "outputs": [
    {
     "data": {
      "text/plain": [
       "219517861    327\n",
       "107434423    232\n",
       "30283594     121\n",
       "137358866    103\n",
       "16098958      96\n",
       "            ... \n",
       "26676357       1\n",
       "43311385       1\n",
       "544621         1\n",
       "21573063       1\n",
       "68119814       1\n",
       "Name: host_id, Length: 37425, dtype: int64"
      ]
     },
     "execution_count": 171,
     "metadata": {},
     "output_type": "execute_result"
    }
   ],
   "source": [
    "airbnb_df[\"host_id\"].value_counts()"
   ]
  },
  {
   "cell_type": "code",
   "execution_count": 172,
   "id": "493e2176-f585-42ee-aab7-a5ba2d911f1e",
   "metadata": {},
   "outputs": [
    {
     "data": {
      "text/plain": [
       "Entire home/apt    25393\n",
       "Private room       22306\n",
       "Shared room         1159\n",
       "Name: room_type, dtype: int64"
      ]
     },
     "execution_count": 172,
     "metadata": {},
     "output_type": "execute_result"
    }
   ],
   "source": [
    "airbnb_df[\"room_type\"].value_counts()"
   ]
  },
  {
   "cell_type": "code",
   "execution_count": null,
   "id": "2222d6c3-dfa8-4d52-b4ac-a2e77d06ccaa",
   "metadata": {},
   "outputs": [],
   "source": [
    "airbnb_df[\"minimum_nights\"]"
   ]
  },
  {
   "cell_type": "code",
   "execution_count": 182,
   "id": "a8c70fbe-f073-41e2-8eaf-5c753238557f",
   "metadata": {},
   "outputs": [
    {
     "name": "stdout",
     "output_type": "stream",
     "text": [
      "322.2074468085106\n",
      "191.86903440621532\n",
      "148.7659459337587\n"
     ]
    }
   ],
   "source": [
    "print(airbnb_df[airbnb_df[\"minimum_nights\"] >= 100][\"price\"].mean())\n",
    "print(airbnb_df[airbnb_df[\"minimum_nights\"] >= 30][\"price\"].mean())\n",
    "print(airbnb_df[airbnb_df[\"minimum_nights\"] < 30][\"price\"].mean())"
   ]
  },
  {
   "cell_type": "code",
   "execution_count": 173,
   "id": "c0712619-e48d-4ffb-9e03-0890ea85c92a",
   "metadata": {},
   "outputs": [
    {
     "data": {
      "text/plain": [
       "<AxesSubplot:xlabel='room_type', ylabel='price'>"
      ]
     },
     "execution_count": 173,
     "metadata": {},
     "output_type": "execute_result"
    },
    {
     "data": {
      "image/png": "[encoded data removed]",
      "text/plain": [
       "<Figure size 432x288 with 1 Axes>"
      ]
     },
     "metadata": {
      "needs_background": "light"
     },
     "output_type": "display_data"
    }
   ],
   "source": [
    "sns.barplot(x=airbnb_df[\"room_type\"], y=airbnb_df[\"price\"], ci=None)"
   ]
  }
 ],
 "metadata": {
  "kernelspec": {
   "display_name": "Python 3 (ipykernel)",
   "language": "python",
   "name": "python3"
  },
  "language_info": {
   "codemirror_mode": {
    "name": "ipython",
    "version": 3
   },
   "file_extension": ".py",
   "mimetype": "text/x-python",
   "name": "python",
   "nbconvert_exporter": "python",
   "pygments_lexer": "ipython3",
   "version": "3.8.12"
  }
 },
 "nbformat": 4,
 "nbformat_minor": 5
}
