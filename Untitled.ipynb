{
 "cells": [
  {
   "cell_type": "code",
   "execution_count": 1,
   "id": "7595c497-db9d-46c0-8a9d-d7834fadbb91",
   "metadata": {},
   "outputs": [],
   "source": [
    "import pandas as pd"
   ]
  },
  {
   "cell_type": "code",
   "execution_count": null,
   "id": "0815acba-6a4c-4499-927e-53b7a9504e89",
   "metadata": {},
   "outputs": [],
   "source": [
    "# 버스, 택시, 우버, 사고\n",
    "\n",
    "# 교통의 발달은 시공간의 압축 (무역 발달(교환과 특화) 운송 발달, 지역 개발(수도권과 지방 차이 줄여줌), 관광 발달 -> 더 빠른 경제성장 -> 삶의 질 향상)\n",
    "# 빨대효과 방지해야 함(교통의 발전이 오히려 경제발전 차이를 가속화 시킴)\n",
    "\n",
    "\n",
    "# 따라서 택시가 많이 다닌다는 것은 교통이 활발하다고 할 수 있으므로, 택시가 많이 다니는 곳은 중심지라는 것을 알 수 있다.\n",
    "# "
   ]
  },
  {
   "cell_type": "code",
   "execution_count": 3,
   "id": "d15f6a1e-8ed2-45a4-beb0-2d3b1292020c",
   "metadata": {},
   "outputs": [],
   "source": [
    "import folium"
   ]
  },
  {
   "cell_type": "code",
   "execution_count": null,
   "id": "a610f745-16a0-43f8-8ad0-917c3f0ea388",
   "metadata": {},
   "outputs": [],
   "source": []
  }
 ],
 "metadata": {
  "kernelspec": {
   "display_name": "Python 3 (ipykernel)",
   "language": "python",
   "name": "python3"
  },
  "language_info": {
   "codemirror_mode": {
    "name": "ipython",
    "version": 3
   },
   "file_extension": ".py",
   "mimetype": "text/x-python",
   "name": "python",
   "nbconvert_exporter": "python",
   "pygments_lexer": "ipython3",
   "version": "3.8.10"
  }
 },
 "nbformat": 4,
 "nbformat_minor": 5
}
