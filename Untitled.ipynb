{
 "cells": [
  {
   "cell_type": "code",
   "execution_count": 1,
   "id": "4dbb2882-ac44-40b7-807e-c2b39599a773",
   "metadata": {},
   "outputs": [],
   "source": [
    "import requests\n",
    "import pandas as pd"
   ]
  },
  {
   "cell_type": "code",
   "execution_count": 2,
   "id": "a610f745-16a0-43f8-8ad0-917c3f0ea388",
   "metadata": {},
   "outputs": [],
   "source": [
    "# riot api\n",
    "# RGAPI-7878fe8c-f7f2-4e2e-985f-8103910d5e13\n",
    "\n",
    "# RATE LIMITS\n",
    "# 20 requests every 1 seconds(s)\n",
    "# 100 requests every 2 minutes(s)\n",
    "# Note that rate limits are enforced per routing value (e.g., na1, euw1, americas).\n",
    "\n",
    "# kr.api.riotgames.com"
   ]
  },
  {
   "cell_type": "markdown",
   "id": "22682ee7-a678-458f-9616-e725e77018a9",
   "metadata": {},
   "source": [
    "# 티어별 유저 기본 데이터 가져오기"
   ]
  },
  {
   "cell_type": "code",
   "execution_count": 5,
   "id": "14bf9015-6c59-4720-b3d2-7eea15860103",
   "metadata": {},
   "outputs": [],
   "source": [
    "api_key  = \"RGAPI-7878fe8c-f7f2-4e2e-985f-8103910d5e13\"\n",
    "kr_api   = \"https://kr.api.riotgames.com\"\n",
    "asia_api = \"https://asia.api.riotgames.com\"\n",
    "\n",
    "challenger  = f\"{kr_api}/lol/league/v4/challengerleagues/by-queue/RANKED_SOLO_5x5?api_key={api_key}\"\n",
    "grandmaster = f\"{kr_api}/lol/league/v4/grandmasterleagues/by-queue/RANKED_SOLO_5x5?api_key={api_key}\"\n",
    "\n",
    "# r = requests.get(challenger)  # 챌린져 호출\n",
    "r = requests.get(grandmaster) # 그마데이터 호출\n",
    "league_df = pd.DataFrame(r.json())"
   ]
  },
  {
   "cell_type": "code",
   "execution_count": 6,
   "id": "2f8ed3ca-5c83-4379-9d6a-3b2dfb8f6d09",
   "metadata": {},
   "outputs": [
    {
     "data": {
      "text/plain": [
       "{'summonerId': 'J9aUqybxCWgXSjrJgLdhagImc09pVwNrpGMiN8_XPTbakf4',\n",
       " 'summonerName': '수희0',\n",
       " 'leaguePoints': 758,\n",
       " 'rank': 'I',\n",
       " 'wins': 442,\n",
       " 'losses': 401,\n",
       " 'veteran': False,\n",
       " 'inactive': False,\n",
       " 'freshBlood': True,\n",
       " 'hotStreak': False}"
      ]
     },
     "execution_count": 6,
     "metadata": {},
     "output_type": "execute_result"
    }
   ],
   "source": [
    "league_df[\"entries\"][0]"
   ]
  },
  {
   "cell_type": "markdown",
   "id": "716c7f3c-f874-491d-b590-ee862d7a2f80",
   "metadata": {},
   "source": [
    "# 소환사 데이터 가져오기"
   ]
  },
  {
   "cell_type": "code",
   "execution_count": 7,
   "id": "e75beec6-6f11-47ce-bb04-3ae69a12ea17",
   "metadata": {},
   "outputs": [],
   "source": [
    "summoner_id = \"JXue7UC14-I2rh7H8TYAUfSxwpo1kw4Ii8dJA4LlVpEajJo\"\n",
    "summoner_name = \"코로나공유\"\n",
    "\n",
    "player1  = f\"{kr_api}/lol/summoner/v4/summoners/{summoner_id}?api_key={api_key}\"\n",
    "response = requests.get(player1)\n",
    "data     = response.json()"
   ]
  },
  {
   "cell_type": "code",
   "execution_count": 8,
   "id": "31dfecad-1f62-4408-affe-cdc1e62e7e95",
   "metadata": {},
   "outputs": [
    {
     "data": {
      "text/plain": [
       "{'id': 'JXue7UC14-I2rh7H8TYAUfSxwpo1kw4Ii8dJA4LlVpEajJo',\n",
       " 'accountId': '5eiUjQC-_2v5pVRd2-4acVLPM0qWl3wYPniCbbpVDcHO-BM',\n",
       " 'puuid': 'jk_O1XQ-1qGCgRv2WoWyyGqI9rhELKVi62wOyOyStLJ1YJRmf1ckCW_J6HGyr0N2Ai7PV6X7hHLgsQ',\n",
       " 'name': '코로나공유',\n",
       " 'profileIconId': 29,\n",
       " 'revisionDate': 1632582638000,\n",
       " 'summonerLevel': 173}"
      ]
     },
     "execution_count": 8,
     "metadata": {},
     "output_type": "execute_result"
    }
   ],
   "source": [
    "data"
   ]
  },
  {
   "cell_type": "code",
   "execution_count": 9,
   "id": "0bc825b7-7581-4511-844e-5b8e8c5637a6",
   "metadata": {},
   "outputs": [],
   "source": [
    "summoner_puuid = data[\"puuid\"]"
   ]
  },
  {
   "cell_type": "code",
   "execution_count": 23,
   "id": "99425f45-c5e5-4e0b-9d40-4cf7127519a6",
   "metadata": {},
   "outputs": [
    {
     "data": {
      "text/plain": [
       "['KR_5476691788',\n",
       " 'KR_5476489810',\n",
       " 'KR_5476449701',\n",
       " 'KR_5476475155',\n",
       " 'KR_5474254376',\n",
       " 'KR_5474322054',\n",
       " 'KR_5474340497',\n",
       " 'KR_5474261454',\n",
       " 'KR_5474194925',\n",
       " 'KR_5474173379',\n",
       " 'KR_5473749448',\n",
       " 'KR_5473639354',\n",
       " 'KR_5471556997',\n",
       " 'KR_5469853340',\n",
       " 'KR_5466288745',\n",
       " 'KR_5466065552',\n",
       " 'KR_5464868768',\n",
       " 'KR_5464567334',\n",
       " 'KR_5464479467',\n",
       " 'KR_5464446203']"
      ]
     },
     "execution_count": 23,
     "metadata": {},
     "output_type": "execute_result"
    }
   ],
   "source": [
    "match_list_api = f\"{asia_api}/lol/match/v5/matches/by-puuid/{summoner_puuid}/ids?api_key={api_key}\"\n",
    "response       = requests.get(match_list_api)\n",
    "match_list     = response.json()\n",
    "\n",
    "# 기본 0부터 20개\n",
    "match_list"
   ]
  },
  {
   "cell_type": "markdown",
   "id": "e03556e4-b7e3-494f-ae63-58cb849da9e8",
   "metadata": {},
   "source": [
    "# match 데이터 가져오기"
   ]
  },
  {
   "cell_type": "code",
   "execution_count": 37,
   "id": "9f5ddbc5-9b91-470c-a943-6f3fa3561cf5",
   "metadata": {},
   "outputs": [],
   "source": [
    "match_data_api = f\"{asia_api}/lol/match/v5/matches/{match_list[0]}?api_key={api_key}\"\n",
    "\n",
    "response = requests.get(match_data_api)\n",
    "match_data = response.json()"
   ]
  },
  {
   "cell_type": "code",
   "execution_count": 38,
   "id": "36ade776-4cc3-40ca-8753-39fad0210a71",
   "metadata": {},
   "outputs": [
    {
     "data": {
      "text/plain": [
       "dict_keys(['metadata', 'info'])"
      ]
     },
     "execution_count": 38,
     "metadata": {},
     "output_type": "execute_result"
    }
   ],
   "source": [
    "match_data.keys()"
   ]
  },
  {
   "cell_type": "code",
   "execution_count": 39,
   "id": "e0a9d10e-e893-448a-a5cb-f34d6ed497dc",
   "metadata": {},
   "outputs": [],
   "source": [
    "# matchId와 10명의 플레이어들의 puuid\n",
    "# match_data[\"metadata\"]"
   ]
  },
  {
   "cell_type": "code",
   "execution_count": 69,
   "id": "1570450e-5ca8-45b2-ad89-f9ea0b172905",
   "metadata": {},
   "outputs": [
    {
     "name": "stdout",
     "output_type": "stream",
     "text": [
      "23.760916666666667\n",
      "2021-09-25 21:46:04\n"
     ]
    }
   ],
   "source": [
    "# gameDuration 분으로 변환\n",
    "print(1425655 / 1000 / 60)\n",
    "\n",
    "# gameCreation 변환\n",
    "from datetime import datetime\n",
    "ts = int(\"1632606364\")\n",
    "print(datetime.utcfromtimestamp(ts).strftime('%Y-%m-%d %H:%M:%S'))\n",
    "\n",
    "# 소환사의 협곡 map_id == 11"
   ]
  },
  {
   "cell_type": "code",
   "execution_count": 70,
   "id": "8ef4592c-7db4-423f-a3f6-69c725ed5d7b",
   "metadata": {},
   "outputs": [
    {
     "data": {
      "text/plain": [
       "dict_keys(['gameCreation', 'gameDuration', 'gameId', 'gameMode', 'gameName', 'gameStartTimestamp', 'gameType', 'gameVersion', 'mapId', 'participants', 'platformId', 'queueId', 'teams', 'tournamentCode'])"
      ]
     },
     "execution_count": 70,
     "metadata": {},
     "output_type": "execute_result"
    }
   ],
   "source": [
    "match_data[\"info\"].keys()"
   ]
  },
  {
   "cell_type": "code",
   "execution_count": 76,
   "id": "664d9f34-03c6-47e6-a6b5-56c712d6182b",
   "metadata": {},
   "outputs": [
    {
     "name": "stdout",
     "output_type": "stream",
     "text": [
      "KR\n",
      "420\n",
      "\n"
     ]
    }
   ],
   "source": [
    "print(match_data[\"info\"][\"platformId\"])\n",
    "print(match_data[\"info\"][\"queueId\"])\n",
    "print(match_data[\"info\"][\"tournamentCode\"])\n",
    "# print(match_data[\"info\"][\"teams\"])"
   ]
  },
  {
   "cell_type": "code",
   "execution_count": 77,
   "id": "3fb02bb5-12a4-4a26-a4c3-b54d639a91b3",
   "metadata": {},
   "outputs": [],
   "source": [
    "# 분석해야 될 부분\n",
    "# match_data[\"info\"][\"participants\"]\n",
    "# match_data[\"info\"][\"teams\"]"
   ]
  },
  {
   "cell_type": "code",
   "execution_count": 81,
   "id": "6eb2e651-5f41-428a-b3aa-75c8f323fedf",
   "metadata": {},
   "outputs": [
    {
     "data": {
      "text/plain": [
       "{'assists': 5,\n",
       " 'baronKills': 0,\n",
       " 'bountyLevel': 1,\n",
       " 'champExperience': 10591,\n",
       " 'champLevel': 13,\n",
       " 'championId': 84,\n",
       " 'championName': 'Akali',\n",
       " 'championTransform': 0,\n",
       " 'consumablesPurchased': 5,\n",
       " 'damageDealtToBuildings': 709,\n",
       " 'damageDealtToObjectives': 709,\n",
       " 'damageDealtToTurrets': 709,\n",
       " 'damageSelfMitigated': 7563,\n",
       " 'deaths': 9,\n",
       " 'detectorWardsPlaced': 2,\n",
       " 'doubleKills': 0,\n",
       " 'dragonKills': 0,\n",
       " 'firstBloodAssist': False,\n",
       " 'firstBloodKill': False,\n",
       " 'firstTowerAssist': False,\n",
       " 'firstTowerKill': False,\n",
       " 'gameEndedInEarlySurrender': False,\n",
       " 'gameEndedInSurrender': False,\n",
       " 'goldEarned': 7507,\n",
       " 'goldSpent': 6875,\n",
       " 'individualPosition': 'TOP',\n",
       " 'inhibitorKills': 0,\n",
       " 'inhibitorTakedowns': 0,\n",
       " 'inhibitorsLost': 0,\n",
       " 'item0': 3152,\n",
       " 'item1': 3047,\n",
       " 'item2': 2055,\n",
       " 'item3': 2421,\n",
       " 'item4': 3191,\n",
       " 'item5': 1054,\n",
       " 'item6': 3364,\n",
       " 'itemsPurchased': 19,\n",
       " 'killingSprees': 0,\n",
       " 'kills': 2,\n",
       " 'lane': 'TOP',\n",
       " 'largestCriticalStrike': 0,\n",
       " 'largestKillingSpree': 0,\n",
       " 'largestMultiKill': 1,\n",
       " 'longestTimeSpentLiving': 215,\n",
       " 'magicDamageDealt': 65695,\n",
       " 'magicDamageDealtToChampions': 11495,\n",
       " 'magicDamageTaken': 3695,\n",
       " 'neutralMinionsKilled': 0,\n",
       " 'nexusKills': 0,\n",
       " 'nexusLost': 0,\n",
       " 'nexusTakedowns': 0,\n",
       " 'objectivesStolen': 0,\n",
       " 'objectivesStolenAssists': 0,\n",
       " 'participantId': 1,\n",
       " 'pentaKills': 0,\n",
       " 'perks': {'statPerks': {'defense': 5002, 'flex': 5008, 'offense': 5008},\n",
       "  'styles': [{'description': 'primaryStyle',\n",
       "    'selections': [{'perk': 8010, 'var1': 288, 'var2': 0, 'var3': 0},\n",
       "     {'perk': 8009, 'var1': 390, 'var2': 0, 'var3': 0},\n",
       "     {'perk': 9105, 'var1': 20, 'var2': 50, 'var3': 0},\n",
       "     {'perk': 8299, 'var1': 584, 'var2': 0, 'var3': 0}],\n",
       "    'style': 8000},\n",
       "   {'description': 'subStyle',\n",
       "    'selections': [{'perk': 8139, 'var1': 672, 'var2': 0, 'var3': 0},\n",
       "     {'perk': 8135, 'var1': 1044, 'var2': 3, 'var3': 0}],\n",
       "    'style': 8100}]},\n",
       " 'physicalDamageDealt': 11323,\n",
       " 'physicalDamageDealtToChampions': 1699,\n",
       " 'physicalDamageTaken': 13276,\n",
       " 'profileIcon': 4096,\n",
       " 'puuid': 'MztfXwjzTvrKkz1j0EvXpNCkULHOSLwv1DFBLmD_pGTKVRa1uvMQsrf2NMFssVxlz2ELaug0AFG03w',\n",
       " 'quadraKills': 0,\n",
       " 'riotIdName': '',\n",
       " 'riotIdTagline': '',\n",
       " 'role': 'SUPPORT',\n",
       " 'sightWardsBoughtInGame': 0,\n",
       " 'spell1Casts': 102,\n",
       " 'spell2Casts': 25,\n",
       " 'spell3Casts': 81,\n",
       " 'spell4Casts': 13,\n",
       " 'summoner1Casts': 5,\n",
       " 'summoner1Id': 14,\n",
       " 'summoner2Casts': 3,\n",
       " 'summoner2Id': 12,\n",
       " 'summonerId': '8QFKTCSBYByCf6u6K2XODgyKgiIWZXQm-MGRskL9muod_6gzkW438U2rDg',\n",
       " 'summonerLevel': 57,\n",
       " 'summonerName': '이랏샤이마새',\n",
       " 'teamEarlySurrendered': False,\n",
       " 'teamId': 100,\n",
       " 'teamPosition': 'TOP',\n",
       " 'timeCCingOthers': 1,\n",
       " 'timePlayed': 1425,\n",
       " 'totalDamageDealt': 77801,\n",
       " 'totalDamageDealtToChampions': 13976,\n",
       " 'totalDamageShieldedOnTeammates': 0,\n",
       " 'totalDamageTaken': 18812,\n",
       " 'totalHeal': 1663,\n",
       " 'totalHealsOnTeammates': 0,\n",
       " 'totalMinionsKilled': 124,\n",
       " 'totalTimeCCDealt': 68,\n",
       " 'totalTimeSpentDead': 146,\n",
       " 'totalUnitsHealed': 1,\n",
       " 'tripleKills': 0,\n",
       " 'trueDamageDealt': 782,\n",
       " 'trueDamageDealtToChampions': 782,\n",
       " 'trueDamageTaken': 1839,\n",
       " 'turretKills': 0,\n",
       " 'turretTakedowns': 0,\n",
       " 'turretsLost': 5,\n",
       " 'unrealKills': 0,\n",
       " 'visionScore': 10,\n",
       " 'visionWardsBoughtInGame': 3,\n",
       " 'wardsKilled': 0,\n",
       " 'wardsPlaced': 7,\n",
       " 'win': True}"
      ]
     },
     "execution_count": 81,
     "metadata": {},
     "output_type": "execute_result"
    }
   ],
   "source": [
    "match_data[\"info\"][\"participants\"][0]"
   ]
  },
  {
   "cell_type": "markdown",
   "id": "17f71c22-ec5e-477a-8e13-a2c760254308",
   "metadata": {},
   "source": [
    "# 타임라인 match 데이터 가져오기"
   ]
  },
  {
   "cell_type": "code",
   "execution_count": 84,
   "id": "91382ba3-cbe8-492b-8c6c-509c6c2af7cd",
   "metadata": {},
   "outputs": [],
   "source": [
    "timeline_match_api = f\"{asia_api}/lol/match/v5/matches/{match_list[0]}/timeline?api_key={api_key}\"\n",
    "\n",
    "response   = requests.get(timeline_match_api)\n",
    "time_match = response.json()\n",
    "# time_match"
   ]
  },
  {
   "cell_type": "code",
   "execution_count": 85,
   "id": "32661a98-c248-4e8c-9391-e168608c09e1",
   "metadata": {},
   "outputs": [
    {
     "data": {
      "text/plain": [
       "dict_keys(['metadata', 'info'])"
      ]
     },
     "execution_count": 85,
     "metadata": {},
     "output_type": "execute_result"
    }
   ],
   "source": [
    "time_match.keys()"
   ]
  },
  {
   "cell_type": "code",
   "execution_count": 86,
   "id": "6e7b0171-6846-4ae3-8ed0-de041918ab9b",
   "metadata": {},
   "outputs": [
    {
     "data": {
      "text/plain": [
       "{'dataVersion': '2',\n",
       " 'matchId': 'KR_5476691788',\n",
       " 'participants': ['MztfXwjzTvrKkz1j0EvXpNCkULHOSLwv1DFBLmD_pGTKVRa1uvMQsrf2NMFssVxlz2ELaug0AFG03w',\n",
       "  'wpEvO4swHjW_7-x0rdvib5k34bibIM6ITmQVk30psWbTAxev-Y9qxv2fKXi8rFxsRfna9-O3SPcMEQ',\n",
       "  '6N8AZlBp7zpxlgtZMbZw12XTdynjCQvJY7CloVqXRyZAHyoVLq0hjXL1IkNJK0w9R3kDFK2XT5bgyw',\n",
       "  'gTUIm-6pFIv6CQNiCAyps_dAIwcNgg7LUnzY-cXbagiHqfWVfIexl4l2S2l-60YqCgiSnKWii65BEA',\n",
       "  'fphs3Jcef_rsNjGfW3E5vu4tBVYocZFaZ4oSMfvueOWGc4l37eqQ9k_jtweEJ950zBT92-mstTizSg',\n",
       "  'YdvqFr3oRWLlSTXmnqV1tlRT46l7jkwcGaHaF7gdrLgh2T64RVYThZVP5ZEOIHQKu1-00ldhYOqmjg',\n",
       "  'mpvRqYRVSZ3nfgsRhs8hA9XmPWKXtYVRAyvrK9eKx8yOG7OiddkN57yz85sS5ljRvFuygG_dqLmVqg',\n",
       "  'ODlx2EE6YEy6t_FtX174b21XdG3TqxlnL1kS2GfTmyclTnCEawRtFUVaYh0KOj8N7F7qDvIRymSpZQ',\n",
       "  'nzHWte_OsMS6wf0e_LNP5-uIzluyRfEFaOd1AfoeEycqXW7ynQ5b-4gtHvZKnf8iLY5rxqtgujgU1g',\n",
       "  'jk_O1XQ-1qGCgRv2WoWyyGqI9rhELKVi62wOyOyStLJ1YJRmf1ckCW_J6HGyr0N2Ai7PV6X7hHLgsQ']}"
      ]
     },
     "execution_count": 86,
     "metadata": {},
     "output_type": "execute_result"
    }
   ],
   "source": [
    "time_match[\"metadata\"]"
   ]
  },
  {
   "cell_type": "code",
   "execution_count": 88,
   "id": "427e2694-4a30-4890-b86d-4aa22ec5ca1a",
   "metadata": {},
   "outputs": [
    {
     "data": {
      "text/plain": [
       "dict_keys(['frameInterval', 'frames', 'gameId', 'participants'])"
      ]
     },
     "execution_count": 88,
     "metadata": {},
     "output_type": "execute_result"
    }
   ],
   "source": [
    "# frames 분석\n",
    "time_match[\"info\"].keys()"
   ]
  },
  {
   "cell_type": "code",
   "execution_count": 151,
   "id": "4da772b5-008b-4f30-81d5-f7ebb7233057",
   "metadata": {},
   "outputs": [],
   "source": [
    "match_data = time_match[\"info\"][\"frames\"]\n",
    "# match_data.keys()"
   ]
  },
  {
   "cell_type": "code",
   "execution_count": 169,
   "id": "058a4d1e-0072-4ea8-93c4-00ccb14c9f29",
   "metadata": {},
   "outputs": [
    {
     "name": "stdout",
     "output_type": "stream",
     "text": [
      "25\n"
     ]
    },
    {
     "data": {
      "text/plain": [
       "dict_keys(['events', 'participantFrames', 'timestamp'])"
      ]
     },
     "execution_count": 169,
     "metadata": {},
     "output_type": "execute_result"
    }
   ],
   "source": [
    "print(len(match_data))\n",
    "match_data[0].keys()\n",
    "\n",
    "\"\"\"\n",
    "events: 게임 내에서 발생한 사건 데이터\n",
    "participantFrames: 각 플레이어 인게임 정보\n",
    "timestamp: 기록된 시간(1분마다 기록이 된다.)\n",
    "\"\"\""
   ]
  },
  {
   "cell_type": "code",
   "execution_count": 176,
   "id": "3d233897-7e6d-4e7f-b3dc-4dff640d5e43",
   "metadata": {},
   "outputs": [
    {
     "data": {
      "text/plain": [
       "180022"
      ]
     },
     "execution_count": 176,
     "metadata": {},
     "output_type": "execute_result"
    }
   ],
   "source": [
    "# match_data[0][\"participantFrames\"]\n",
    "match_data[3][\"timestamp\"]"
   ]
  },
  {
   "cell_type": "code",
   "execution_count": 183,
   "id": "2dade33c-2684-47da-b530-0a40b8902225",
   "metadata": {},
   "outputs": [
    {
     "data": {
      "text/plain": [
       "[{'levelUpType': 'NORMAL',\n",
       "  'participantId': 9,\n",
       "  'skillSlot': 1,\n",
       "  'timestamp': 60083,\n",
       "  'type': 'SKILL_LEVEL_UP'},\n",
       " {'creatorId': 7,\n",
       "  'timestamp': 67248,\n",
       "  'type': 'WARD_PLACED',\n",
       "  'wardType': 'YELLOW_TRINKET'},\n",
       " {'levelUpType': 'NORMAL',\n",
       "  'participantId': 6,\n",
       "  'skillSlot': 1,\n",
       "  'timestamp': 70419,\n",
       "  'type': 'SKILL_LEVEL_UP'},\n",
       " {'creatorId': 4,\n",
       "  'timestamp': 73195,\n",
       "  'type': 'WARD_PLACED',\n",
       "  'wardType': 'YELLOW_TRINKET'},\n",
       " {'creatorId': 3,\n",
       "  'timestamp': 86983,\n",
       "  'type': 'WARD_PLACED',\n",
       "  'wardType': 'YELLOW_TRINKET'},\n",
       " {'creatorId': 8,\n",
       "  'timestamp': 93693,\n",
       "  'type': 'WARD_PLACED',\n",
       "  'wardType': 'YELLOW_TRINKET'},\n",
       " {'creatorId': 1,\n",
       "  'timestamp': 96207,\n",
       "  'type': 'WARD_PLACED',\n",
       "  'wardType': 'YELLOW_TRINKET'},\n",
       " {'levelUpType': 'NORMAL',\n",
       "  'participantId': 3,\n",
       "  'skillSlot': 1,\n",
       "  'timestamp': 98155,\n",
       "  'type': 'SKILL_LEVEL_UP'},\n",
       " {'levelUpType': 'NORMAL',\n",
       "  'participantId': 8,\n",
       "  'skillSlot': 1,\n",
       "  'timestamp': 102215,\n",
       "  'type': 'SKILL_LEVEL_UP'},\n",
       " {'levelUpType': 'NORMAL',\n",
       "  'participantId': 10,\n",
       "  'skillSlot': 3,\n",
       "  'timestamp': 105091,\n",
       "  'type': 'SKILL_LEVEL_UP'},\n",
       " {'creatorId': 6,\n",
       "  'timestamp': 107137,\n",
       "  'type': 'WARD_PLACED',\n",
       "  'wardType': 'YELLOW_TRINKET'},\n",
       " {'creatorId': 5,\n",
       "  'timestamp': 107698,\n",
       "  'type': 'WARD_PLACED',\n",
       "  'wardType': 'YELLOW_TRINKET'},\n",
       " {'levelUpType': 'NORMAL',\n",
       "  'participantId': 4,\n",
       "  'skillSlot': 1,\n",
       "  'timestamp': 110341,\n",
       "  'type': 'SKILL_LEVEL_UP'},\n",
       " {'levelUpType': 'NORMAL',\n",
       "  'participantId': 1,\n",
       "  'skillSlot': 3,\n",
       "  'timestamp': 113479,\n",
       "  'type': 'SKILL_LEVEL_UP'},\n",
       " {'itemId': 2003,\n",
       "  'participantId': 1,\n",
       "  'timestamp': 117871,\n",
       "  'type': 'ITEM_DESTROYED'}]"
      ]
     },
     "execution_count": 183,
     "metadata": {},
     "output_type": "execute_result"
    }
   ],
   "source": [
    "match_data[2][\"events\"]"
   ]
  },
  {
   "cell_type": "code",
   "execution_count": null,
   "id": "c8ef4013-df7f-4f99-9d94-b8df3483c100",
   "metadata": {},
   "outputs": [],
   "source": []
  }
 ],
 "metadata": {
  "kernelspec": {
   "display_name": "Python 3 (ipykernel)",
   "language": "python",
   "name": "python3"
  },
  "language_info": {
   "codemirror_mode": {
    "name": "ipython",
    "version": 3
   },
   "file_extension": ".py",
   "mimetype": "text/x-python",
   "name": "python",
   "nbconvert_exporter": "python",
   "pygments_lexer": "ipython3",
   "version": "3.8.10"
  }
 },
 "nbformat": 4,
 "nbformat_minor": 5
}
