{
 "cells": [
  {
   "cell_type": "code",
   "execution_count": 1,
   "id": "b0a70294-b315-4437-8220-c520fdd95c58",
   "metadata": {},
   "outputs": [],
   "source": [
    "import requests"
   ]
  },
  {
   "cell_type": "code",
   "execution_count": 4,
   "id": "6e27098a-d2e2-4b33-bb82-e0f52d616636",
   "metadata": {},
   "outputs": [],
   "source": [
    "# response = requests.get(\"https://login.uber.com/oauth/v2/authorize\")\n",
    "# response.text"
   ]
  },
  {
   "cell_type": "code",
   "execution_count": 18,
   "id": "ae6eb130-73d0-4578-a7b8-f267815f8422",
   "metadata": {},
   "outputs": [],
   "source": [
    "key = \"427379566b6f726132374a77454c71\"\n",
    "url = f\"http://swopenAPI.seoul.go.kr/api/subway/{key}/json/realtimePosition/0/5/1호선\""
   ]
  },
  {
   "cell_type": "code",
   "execution_count": 19,
   "id": "122274af-8e36-4d28-a9c0-e212cfd81531",
   "metadata": {},
   "outputs": [],
   "source": [
    "response = requests.get(url)"
   ]
  },
  {
   "cell_type": "code",
   "execution_count": 20,
   "id": "0874a356-2f23-411a-86c6-427af0c29a9a",
   "metadata": {},
   "outputs": [
    {
     "data": {
      "text/plain": [
       "'{\"status\":500,\"code\":\"ERROR-338\",\"message\":\"해당 인증키로는 실시간 서비스를 사용할 수 없습니다.\",\"link\":\"\",\"developerMessage\":\"\",\"total\":0}'"
      ]
     },
     "execution_count": 20,
     "metadata": {},
     "output_type": "execute_result"
    }
   ],
   "source": [
    "response.text"
   ]
  },
  {
   "cell_type": "markdown",
   "id": "9e7523d0-5ab7-46e5-a534-647c105c2474",
   "metadata": {},
   "source": []
  },
  {
   "cell_type": "code",
   "execution_count": null,
   "id": "d3d7afa5-7b04-4c46-ae2f-5cbd55b8bdb9",
   "metadata": {},
   "outputs": [],
   "source": []
  },
  {
   "cell_type": "code",
   "execution_count": null,
   "id": "275c5ee1-cd64-40d1-8569-30786f30947a",
   "metadata": {},
   "outputs": [],
   "source": []
  },
  {
   "cell_type": "code",
   "execution_count": null,
   "id": "305586ce-b581-477f-8c18-4abe6c185523",
   "metadata": {},
   "outputs": [],
   "source": [
    "# 만약 행복도와 교통에 관련이 있다면 ?\n",
    "# 교통 발달의 의미"
   ]
  },
  {
   "cell_type": "markdown",
   "id": "55589129-d3bc-4688-a5c2-cdfb76874628",
   "metadata": {},
   "source": [
    "New York City\n",
    "    - taxi\n",
    "    - airbnb\n",
    "    - d"
   ]
  }
 ],
 "metadata": {
  "kernelspec": {
   "display_name": "Python 3 (ipykernel)",
   "language": "python",
   "name": "python3"
  },
  "language_info": {
   "codemirror_mode": {
    "name": "ipython",
    "version": 3
   },
   "file_extension": ".py",
   "mimetype": "text/x-python",
   "name": "python",
   "nbconvert_exporter": "python",
   "pygments_lexer": "ipython3",
   "version": "3.8.10"
  }
 },
 "nbformat": 4,
 "nbformat_minor": 5
}
