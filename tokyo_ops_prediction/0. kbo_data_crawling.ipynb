{
 "cells": [
  {
   "cell_type": "code",
   "execution_count": null,
   "id": "de59ba08-d3ff-4c28-bb47-549475ff72fc",
   "metadata": {},
   "outputs": [],
   "source": [
    "import pandas as pd\n",
    "\n",
    "from bs4  import BeautifulSoup\n",
    "from time import sleep\n",
    "\n",
    "\n",
    "from selenium                          import webdriver\n",
    "from webdriver_manager.chrome          import ChromeDriverManager\n",
    "from selenium.webdriver.support.select import Select\n",
    "from selenium.common.exceptions        import NoSuchElementException"
   ]
  },
  {
   "cell_type": "code",
   "execution_count": null,
   "id": "96b0311e-70c5-4f41-b454-cf7eeb1ae173",
   "metadata": {},
   "outputs": [],
   "source": [
    "pd.set_option(\"display.max_columns\", 100)"
   ]
  },
  {
   "cell_type": "markdown",
   "id": "b15ecb64-16a3-4606-a318-e228c53c1bd5",
   "metadata": {},
   "source": [
    "# 시즌별 선수 성적 수집"
   ]
  },
  {
   "cell_type": "code",
   "execution_count": null,
   "id": "06428989-af46-4197-b138-ed969c4cfe5c",
   "metadata": {},
   "outputs": [],
   "source": [
    "url = \"https://www.koreabaseball.com/Record/Player/HitterBasic/Basic1.aspx\"\n",
    "print(url)"
   ]
  },
  {
   "cell_type": "code",
   "execution_count": null,
   "id": "46e74b4d-06a6-4f28-980b-04d84cc3b0b1",
   "metadata": {},
   "outputs": [],
   "source": [
    "\"\"\"\n",
    "시즌별 선수 성적 크롤링\n",
    "\"\"\"\n",
    "\n",
    "driver = webdriver.Chrome(executable_path=ChromeDriverManager().install())\n",
    "driver.get(url)\n",
    "sleep(1)\n",
    "\n",
    "season_xpath       = '//*[@id=\"cphContents_cphContents_cphContents_ddlSeason_ddlSeason\"]'\n",
    "basic_info_xpath_1 = '//*[@id=\"cphContents_cphContents_cphContents_udpContent\"]/div[2]/div[1]/ul/li[1]/a'\n",
    "basic_info_xpath_2 = '//*[@id=\"cphContents_cphContents_cphContents_udpContent\"]/div[2]/ul/li[1]/a'\n",
    "detail_info_xpath  = '//*[@id=\"cphContents_cphContents_cphContents_udpContent\"]/div[2]/div[1]/ul/li[2]/a'\n",
    "first_info_xpath   = '//*[@id=\"cphContents_cphContents_cphContents_udpContent\"]/div[2]/div[2]/a[1]'\n",
    "second_info_xpath  = '//*[@id=\"cphContents_cphContents_cphContents_udpContent\"]/div[2]/div[2]/a[2]'\n",
    "all_season_df = []\n",
    "info_types    = [\"basic_1\", \"basic_2\", \"detail\"]\n",
    "\n",
    "# seasons = list(range(2002, 2022))\n",
    "seasons = list(range(2008, 2009))\n",
    "\n",
    "# 02년 ~ 21년, 통산 성적\n",
    "# 세부 기록에서는 '전체'를 고를 수가 없어서 기본사항으로 넘어간 후 전체를 고른다\n",
    "for year in seasons:\n",
    "    season = driver.find_element_by_xpath(season_xpath)\n",
    "    Select(season).select_by_value(str(year))\n",
    "    sleep(0.5)\n",
    "    \n",
    "    # 한 연도의 각 정보 카테고리의 테이블 리스트\n",
    "    a_season_df = []\n",
    "    \n",
    "    for info_name in info_types:\n",
    "        # 기본 정보일 경우\n",
    "        if (info_name == \"basic_1\") or (info_name == \"basic_2\"):\n",
    "\n",
    "            # 기본 정보 클릭\n",
    "            try:                \n",
    "                driver.find_element_by_xpath(basic_info_xpath_1).click()\n",
    "                sleep(0.5)\n",
    "            except NoSuchElementException as e:\n",
    "                driver.find_element_by_xpath(basic_info_xpath_2).click()\n",
    "                sleep(0.5)\n",
    "            \n",
    "            if info_name == \"basic_1\":\n",
    "                driver.find_element_by_xpath(first_info_xpath).click()\n",
    "                sleep(0.5)\n",
    "            elif info_name == \"basic_2\":\n",
    "                driver.find_element_by_xpath(second_info_xpath).click()\n",
    "                sleep(0.5)\n",
    "                \n",
    "        # 상세 정보일 경우\n",
    "        else:\n",
    "            driver.find_element_by_xpath(detail_info_xpath).click()\n",
    "            sleep(0.5)\n",
    "        \n",
    "        # 모든 페이지의 테이블 가져오기\n",
    "        # len_page 임의로 3 설정\n",
    "        page_tables = []\n",
    "        page        = 1\n",
    "        len_page    = 3\n",
    "        while page < len_page - 1:\n",
    "            pages    = driver.find_element_by_class_name('paging')\n",
    "            pages    = pages.find_elements_by_tag_name('a')\n",
    "            len_page = len(pages)\n",
    "\n",
    "            pages[page].click()\n",
    "            sleep(1)\n",
    "        \n",
    "            # table 가져오기\n",
    "            html  = BeautifulSoup(driver.page_source, 'lxml')\n",
    "            table = pd.read_html(str(html), encoding='cp949')[0]\n",
    "            table[\"YEAR\"] = year\n",
    "\n",
    "            page_tables.append(table)\n",
    "            page += 1\n",
    "        \n",
    "        # 한 연도에서 한 정보 카테고리의 모든 페이지들을 통합시킨다.\n",
    "        table = pd.concat(page_tables, axis=0).reset_index(drop=True)\n",
    "        a_season_df.append(table)\n",
    "    \n",
    "    # 한 연도에서 모든 정보 카테고리들을 통합시킨다.\n",
    "    basic_df_1 = a_season_df[0]\n",
    "    basic_df_2 = a_season_df[1]\n",
    "    detail_df  = a_season_df[2]\n",
    "    all_season_df.append(pd.merge(pd.merge(basic_df_1, basic_df_2), detail_df, on=[\"선수명\", \"순위\", \"팀명\", \"AVG\", \"YEAR\"], how='left'))\n",
    "    sleep(1)\n",
    "    \n",
    "driver.quit()"
   ]
  },
  {
   "cell_type": "markdown",
   "id": "64fda062-ac87-4900-a8da-c573120d0e1b",
   "metadata": {},
   "source": [
    "# kbo 통산성적 수집"
   ]
  },
  {
   "cell_type": "code",
   "execution_count": null,
   "id": "fab37490-5f17-42d5-911f-761827ef3ca0",
   "metadata": {},
   "outputs": [],
   "source": [
    "\"\"\"\n",
    "kbo 통산성적\n",
    "\"\"\"\n",
    "\n",
    "all_season_df = each_all_season_df[:]\n",
    "\n",
    "# 비율은 모두 float형으로 나타내기 때문에, float에겐 평균값을, '순위' column을 제외한 int형의 모든 열은 sum으로 합산해준다.\n",
    "rate_cols = all_season_df[0].dtypes[all_season_df[0].dtypes == \"float\"].index.tolist() \n",
    "int_cols  = all_season_df[0].dtypes[all_season_df[0].dtypes == \"int\"].index.tolist()\n",
    "fix_int_cols = ['순위', 'YEAR']\n",
    "for col in fix_int_cols:\n",
    "    int_cols.remove(col)\n",
    "\n",
    "for idx in range(len(all_season_df) - 1):\n",
    "    print(idx)\n",
    "    cur_df  = all_season_df[idx]\n",
    "    next_df = all_season_df[idx + 1]\n",
    "    \n",
    "    table = cur_df.merge(next_df, how='outer')\n",
    "    duplicated_names = table[\"선수명\"][table[\"선수명\"].duplicated()]\n",
    "    \n",
    "    for name in duplicated_names:\n",
    "        duplicated_pair = table[\"선수명\"][table[\"선수명\"] == name].index\n",
    "        first_idx  = duplicated_pair[0]\n",
    "        second_idx = duplicated_pair[1]\n",
    "        \n",
    "        # float 열 계산\n",
    "        mean_of_pair = (table.loc[first_idx, rate_cols] + table.loc[second_idx, rate_cols]) / 2\n",
    "        table.loc[first_idx, rate_cols] = mean_of_pair.apply(round, args=(3, ))\n",
    "        \n",
    "        # int열 계산\n",
    "        sum_of_pair = table.loc[first_idx, int_cols] + table.loc[second_idx, int_cols]\n",
    "        table.loc[first_idx, int_cols] = sum_of_pair\n",
    "        \n",
    "        table = table.drop(second_idx, axis=0)\n",
    "        table = table.reset_index(drop=True)\n",
    "        \n",
    "    all_season_df[idx + 1] = table\n",
    "    \n",
    "concat_df = all_season_df[-1]"
   ]
  },
  {
   "cell_type": "code",
   "execution_count": null,
   "id": "d5f00fba-617a-44b7-99c8-50c2746415a6",
   "metadata": {},
   "outputs": [],
   "source": [
    "# 시즌별 선수가 kbo 전체 선수를 가지고 있지 않다. ex) 08 이명기가 통산성적에는 존재하나, 시즌 성적의 명단에는 존재하지 않음.\n",
    "# temp_all_season_df[6][temp_all_season_df[6][\"선수명\"] == \"이명기\"]"
   ]
  },
  {
   "cell_type": "markdown",
   "id": "2759e1f2-0f9f-4c84-a618-2bd8c0448512",
   "metadata": {},
   "source": [
    "# 시즌별 성적 및 통산 성적 csv화"
   ]
  },
  {
   "cell_type": "code",
   "execution_count": null,
   "id": "a0a56db2-6402-4c12-9d0b-4cb202a0c5b5",
   "metadata": {},
   "outputs": [],
   "source": [
    "# 시즌별 성적 csv화 시키기\n",
    "for idx, df in enumerate(each_all_season_df):\n",
    "    year = seasons[idx]\n",
    "    df.to_csv(f\"data/kbo_{year}_season.csv\", index=False)"
   ]
  },
  {
   "cell_type": "code",
   "execution_count": null,
   "id": "91141c38-a7ea-42c2-b05b-e1dd75e5defe",
   "metadata": {},
   "outputs": [],
   "source": [
    "concat_df.to_csv('data/all_kbo.csv', index=False)"
   ]
  },
  {
   "cell_type": "code",
   "execution_count": null,
   "id": "fe4d4f1f-b8ed-4d4d-b58a-edae71579d0e",
   "metadata": {},
   "outputs": [],
   "source": [
    "pd.read_csv('data/kbo_2017_season.csv').head()"
   ]
  },
  {
   "cell_type": "markdown",
   "id": "d815fcc1-ae3e-4659-b7c2-958ec485c5ea",
   "metadata": {},
   "source": []
  },
  {
   "cell_type": "code",
   "execution_count": null,
   "id": "e5feba5a-50f2-4456-b882-bd34e433742f",
   "metadata": {},
   "outputs": [],
   "source": []
  },
  {
   "cell_type": "code",
   "execution_count": null,
   "id": "4a9d32af-6409-4f35-84ab-7163bdd822e6",
   "metadata": {},
   "outputs": [],
   "source": []
  }
 ],
 "metadata": {
  "kernelspec": {
   "display_name": "Python 3 (ipykernel)",
   "language": "python",
   "name": "python3"
  },
  "language_info": {
   "codemirror_mode": {
    "name": "ipython",
    "version": 3
   },
   "file_extension": ".py",
   "mimetype": "text/x-python",
   "name": "python",
   "nbconvert_exporter": "python",
   "pygments_lexer": "ipython3",
   "version": "3.8.10"
  }
 },
 "nbformat": 4,
 "nbformat_minor": 5
}
