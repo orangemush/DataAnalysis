{
 "cells": [
  {
   "cell_type": "markdown",
   "id": "49434bdf-4e9a-46bf-9976-5e6560b1b4fa",
   "metadata": {},
   "source": [
    "# 함수 및 라이브러리 기본 세팅"
   ]
  },
  {
   "cell_type": "code",
   "execution_count": null,
   "id": "ad45c280-a339-4b0b-9bce-deb85bbd6f80",
   "metadata": {},
   "outputs": [],
   "source": [
    "import pandas as pd\n",
    "\n",
    "from bs4  import BeautifulSoup\n",
    "from time import sleep\n",
    "\n",
    "\n",
    "from selenium                          import webdriver\n",
    "from webdriver_manager.chrome          import ChromeDriverManager\n",
    "from selenium.webdriver.support.select import Select\n",
    "from selenium.common.exceptions        import NoSuchElementException"
   ]
  },
  {
   "cell_type": "code",
   "execution_count": null,
   "id": "c68093a0-c6f7-45c1-9555-1e539e3be75f",
   "metadata": {},
   "outputs": [],
   "source": [
    "def get_players_data_by_game(players):\n",
    "    \"\"\"\n",
    "    players: 요소가 선수명으로 이루어진 리스트\n",
    "    \n",
    "    이 함수는 statiz에서 각 선수가 뛴 모든 국내 시즌에서의 기록들을\n",
    "    연도 별 일 단위로 가져옵니다.\n",
    "    \"\"\"\n",
    "    all_players = {}\n",
    "\n",
    "    driver  = webdriver.Chrome(executable_path=ChromeDriverManager().install())\n",
    "    exception_players = {\n",
    "        \"김현수\": \"http://www.statiz.co.kr/player.php?opt=3&name=김현수&birth=1988-01-12\",\n",
    "        \"김상수\": \"http://www.statiz.co.kr/player.php?opt=3&name=김상수&birth=1990-03-23\",\n",
    "        \"박병호\": \"http://www.statiz.co.kr/player.php?opt=3&name=박병호&birth=1986-07-10\",\n",
    "        \"박건우\": \"http://www.statiz.co.kr/player.php?opt=3&name=박건우&birth=1990-09-08\",\n",
    "    }\n",
    "    for name in players:\n",
    "        if name in exception_players:\n",
    "            url = exception_players[name]\n",
    "            driver.get(url)\n",
    "            sleep(1)\n",
    "        else:\n",
    "            url = f'http://www.statiz.co.kr/player.php?opt=3&name={name}'\n",
    "            driver.get(url)\n",
    "            sleep(1)\n",
    "\n",
    "        # 팀 이름, 선수 이름, 포지션\n",
    "        player_info     = driver.find_element_by_class_name('callout').text\n",
    "        player_team     = player_info.split('\\n')[-1].split(',')[0]\n",
    "        player_position = player_info.split(', ')[1]\n",
    "            \n",
    "        print(player_team, name, player_position)\n",
    "        \n",
    "        # 투수는 타자 기록이 없기 때문에 넘어간다.\n",
    "        if player_position == '투수':\n",
    "            print(f\"{name}은(는) 투수입니다 !\")\n",
    "            continue\n",
    "\n",
    "        seasons_wrapper = driver.find_element_by_xpath('/html/body/div[1]/div[1]/div/section[2]/div/div[2]/div/div[2]/div')\n",
    "        seasons = seasons_wrapper.find_elements_by_tag_name('a')\n",
    "        \n",
    "        # 과거부터 최신 순으로\n",
    "        years = [season.text for season in seasons]\n",
    "        years.sort(reverse=False)\n",
    "        \n",
    "        player_data = {}\n",
    "        for year in years:\n",
    "            driver.get(url + f\"&year={year}\")\n",
    "            sleep(1)\n",
    "\n",
    "            html       = BeautifulSoup(driver.page_source, 'lxml')\n",
    "            table_html = html.find_all(\"table\")[2]\n",
    "            table      = pd.read_html(str(table_html), encoding='cp949')[0]\n",
    "\n",
    "            # table 정보 추가 및 기본 전처리\n",
    "            table[\"이름\"]  = name\n",
    "            table[\"포지션\"] = player_position\n",
    "            table[\"팀\"]    = player_team\n",
    "            table = table.rename(columns={table.columns[0]: \"경기일\"})\n",
    "            \n",
    "            # 경기일 column에서 이상한 row 삭제 및 index 재정렬\n",
    "            drop_index = table[\"경기일\"][table[\"경기일\"].apply(lambda x: x.find('월')) > 0].index\n",
    "            table = table.drop(drop_index).reset_index(drop=True)\n",
    "            table[\"경기일\"] = table[\"경기일\"].apply(lambda x: f\"{year}-{x}\")\n",
    "            table[\"경기일\"] = table[\"경기일\"].astype('datetime64')\n",
    "            table[\"연도\"]  = table[\"경기일\"].dt.year\n",
    "            \n",
    "            # 필요없는 column drop\n",
    "            drop_cols = [\"경기일\", \"포지션\", \"상대\"]\n",
    "            table = table.drop(drop_cols, axis=1)\n",
    "            \n",
    "            # 결과에 대해 전처리\n",
    "            table[\"결과\"] = table[\"결과\"].apply(lambda x: 1 if x[0] == \"W\" else 0)\n",
    "\n",
    "            player_data[year] = table\n",
    "\n",
    "        all_players[name] = player_data\n",
    "\n",
    "    driver.quit()\n",
    "    return all_players\n",
    "\n",
    "\n",
    "def group_by_day(df, day):\n",
    "    \"\"\"\n",
    "    df : 데이터 프레임\n",
    "    day: 묶을 경기의 단위\n",
    "    \n",
    "    이 함수는 데이터 프레임 row들을 day만큼 묶어서 합산하여 각각의 row로 묶어서\n",
    "    데이터 프레임 형태로 반환합니다.\n",
    "    \"\"\"\n",
    "    group_day = int(len(df) / day)\n",
    "    \n",
    "    bundle_by_day = pd.DataFrame()\n",
    "    for i in range(group_day):\n",
    "        start_idx = day * i\n",
    "        end_idx   = day * (i + 1)\n",
    "        temp_df = df.loc[start_idx:end_idx, :]\n",
    "        \n",
    "        int_cols = [\n",
    "            '결과', '선발', '타수', '득점', '안타', '2타', '3타', '홈런', '루타', '타점',\n",
    "            '도루', '도실', '볼넷', '사구', '고4', '삼진', '병살', '희타', '희비'\n",
    "        ]\n",
    "        float_cols = [\n",
    "            '타율', '출루', '장타', 'OPS', \n",
    "            '투구', 'avLI', 'RE24', 'WPA'\n",
    "        ]\n",
    "        \n",
    "        # int col과 float col 연산\n",
    "        # 하나의 row로 만든다.\n",
    "        temp_df[int_cols]   = temp_df[int_cols].astype('int')\n",
    "        temp_df[float_cols] = temp_df[float_cols].astype('float')\n",
    "        \n",
    "        \n",
    "        temp_df.loc[start_idx, int_cols]   = temp_df[int_cols].sum()\n",
    "        temp_df.loc[start_idx, float_cols] = temp_df[float_cols].mean()\n",
    "        temp_df.loc[start_idx, \"P\"]        = temp_df[\"P\"].value_counts().sort_values().index[-1]\n",
    "        temp_df.loc[start_idx, \"타순\"]      = temp_df[\"타순\"].value_counts().sort_values().index[-1]\n",
    "        \n",
    "        bundle_by_day = bundle_by_day.append(temp_df.loc[start_idx, :])\n",
    "        \n",
    "    return bundle_by_day.reset_index(drop=True)\n",
    "\n",
    "\n",
    "def get_player_data_a_year(all_player_data, players, year, division=8):\n",
    "    \"\"\"\n",
    "    all_player_data : 선수 이름을 key 값으로 가지고 있으며, 그 안에 year와, dataframe을 key와 value로 가지고 있는 dictionary\n",
    "    players         : 가져오고자 하는 선수명의 리스트\n",
    "    year            : 가져오고자 하는 데이터의 연도\n",
    "    division        : 경기묶음의 단위\n",
    "    선수의 특정 연도 데이터를 division 수의 경기만큼 묶어 반환합니다.\n",
    "    \"\"\"\n",
    "    all_df_by_day = pd.DataFrame()\n",
    "    for player in players:\n",
    "        if year in all_player_data[player]:\n",
    "            df        = all_player_data[player][year]\n",
    "            df_by_day = group_by_day(df, division)\n",
    "            all_df_by_day = all_df_by_day.append(df_by_day).reset_index(drop=True)\n",
    "\n",
    "    return all_df_by_day"
   ]
  },
  {
   "cell_type": "markdown",
   "id": "495e7ab3-6c99-4127-832d-90d9b744ed72",
   "metadata": {},
   "source": [
    "# 데이터 가져오기"
   ]
  },
  {
   "cell_type": "markdown",
   "id": "8962b722-176d-4997-8672-01835edaa893",
   "metadata": {},
   "source": [
    "## 프리미어 15 선수 시즌 데이터 가져오기"
   ]
  },
  {
   "cell_type": "code",
   "execution_count": null,
   "id": "f683ed59-35b5-4311-8266-46d3ec03fec9",
   "metadata": {},
   "outputs": [],
   "source": [
    "premier_15         = pd.read_csv(\"data/15_premier.csv\")\n",
    "main_idx           = premier_15[\"타수\"].sort_values(ascending=False)[:9].index\n",
    "premier_15         = premier_15.loc[main_idx].reset_index(drop=True)\n",
    "premier_15_players = premier_15[\"이름\"].tolist()\n",
    "premier_year       = \"2015\"\n",
    "\n",
    "# 크롤링 가져오기\n",
    "premier_15_player_kbo_data = get_players_data_by_game(premier_players)\n",
    "premier_15_player_kbo_data = get_player_data_a_year(premier_15_player_kbo_data, premier_players, premier_year, division=8)\n",
    "\n",
    "# 백업 df 생성\n",
    "backup_15_premier = premier_15_player_kbo_data.copy()"
   ]
  },
  {
   "cell_type": "markdown",
   "id": "e98b994a-adc7-4a9e-b2e9-0e5699e6502f",
   "metadata": {},
   "source": [
    "## 19연도 kbo, premier 데이터 가져오기"
   ]
  },
  {
   "cell_type": "code",
   "execution_count": null,
   "id": "9e3932a5-192c-4cc2-a152-e1391e926c77",
   "metadata": {},
   "outputs": [],
   "source": [
    "pd.options.display.max_columns = 999\n",
    "\n",
    "premier_2019       = pd.read_csv(\"data/19_premier.csv\")\n",
    "sub_idx            = premier_2019[\"타수\"].sort_values()[:4].index\n",
    "premier_2019       = premier_2019.drop(sub_idx, axis=0).reset_index(drop=True)\n",
    "premier_19_players = premier_2019[\"이름\"].tolist()\n",
    "premier_year       = \"2019\"\n",
    "\n",
    "# 크롤링 하기\n",
    "premier_19_player_kbo_data = get_players_data_by_game(premier_players)\n",
    "premier_19_player_kbo_data = get_player_data_a_year(premier_19_player_kbo_data, premier_players, premier_year, division=8)\n",
    "\n",
    "# 백업 df 생성\n",
    "backup_19_premier = premier_19_player_kbo_data.copy()"
   ]
  },
  {
   "cell_type": "markdown",
   "id": "7617446e-1fa9-4581-bdc6-de3080524636",
   "metadata": {},
   "source": [
    "## 21년도 kbo 시즌 데이터 가져오기"
   ]
  },
  {
   "cell_type": "code",
   "execution_count": null,
   "id": "8841dfa9-9d42-468d-955e-5bb8323c4b8e",
   "metadata": {},
   "outputs": [],
   "source": [
    "# 투수 포지션을 제외한 도쿄 올림픽 멤버\n",
    "tokyo_year    = \"2021\"\n",
    "tokyo_players = [\n",
    "    \"박건우\", \"김현수\", \"이정후\", \"박해민\", \"강백호\",\n",
    "    \"황재균\", \"오지환\", \"김혜성\", \"양의지\", \"강민호\",\n",
    "    \"오재일\", \"박민우\", \"최주환\", \"허경민\"\n",
    "]\n",
    "\n",
    "# 크롤링 하기\n",
    "tokyo_player_kbo_data = get_players_data_by_game(tokyo_players)\n",
    "tokyo_player_kbo_data = get_player_data_a_year(tokyo_player_kbo_data, tokyo_players, tokyo_year, division=8)\n",
    "\n",
    "# 백업 df 생성\n",
    "backup_tokyo = tokyo_player_kbo_data.copy()"
   ]
  },
  {
   "cell_type": "markdown",
   "id": "89b0fb62-237d-4b20-ab53-fb7f688191a7",
   "metadata": {},
   "source": [
    "# 변수명 변경"
   ]
  },
  {
   "cell_type": "code",
   "execution_count": null,
   "id": "53f9c453-5f20-4e3e-ae07-49196837f94a",
   "metadata": {},
   "outputs": [],
   "source": [
    "premier_15_player_kbo_data = backup_15_premier.copy()\n",
    "premier_19_player_kbo_data = backup_19_premier.copy()\n",
    "# tokyo_player_kbo_data   = backup_tokyo.copy()\n",
    "\n",
    "columns = [\n",
    "    'RES', 'ORD', 'P', 'SP', 'AB', 'R', 'H', '2B', '3B', 'HR',\n",
    "    'TB', 'RBI', 'SB', 'CS', 'BB', 'HBP', 'IBB', 'SO', 'GDP',\n",
    "    'SH', 'SF', 'AVG', 'OBP', 'SLG', 'OPS', 'PN',\n",
    "    'avLI', 'RE24', 'WPA', 'PLAYER', 'TEAM', 'YEAR'\n",
    "]\n",
    "\n",
    "# 컬럼명 변경\n",
    "premier_15_player_kbo_data.columns = columns\n",
    "premier_19_player_kbo_data.columns = columns\n",
    "# tokyo_player_kbo_data.columns   = columns\n",
    "\n",
    "# tokyo_player_kbo_data.head(3)\n",
    "premier_15_player_kbo_data.head(3)\n",
    "premier_19_player_kbo_data.head(3)"
   ]
  },
  {
   "cell_type": "code",
   "execution_count": null,
   "id": "d17b1afc-b5a7-484a-9d93-f680e85d0341",
   "metadata": {},
   "outputs": [],
   "source": [
    "def add_default_derived_var(df):\n",
    "    df['B']    = df['H'] - (df['2B'] + df['3B'] + df['HR'])\n",
    "    df['GPA']  = (df.OBP * 1.8 + df.SLG) / 4\n",
    "    df['BB/K'] = df.BB / df.SO\n",
    "    df['ISOP'] = df.SLG - df.AVG\n",
    "    df['XBH']  = df['2B'] + df['3B'] + df.HR\n",
    "\n",
    "\n",
    "# 기본 파생변수 추가\n",
    "add_default_derived_var(premier_15_player_kbo_data)\n",
    "# add_default_derived_var(premier_19_player_kbo_data)\n",
    "# add_default_derived_var(tokyo_player_kbo_data)\n",
    "    \n",
    "# 실수 변수들 가져오기\n",
    "float_cols = premier_15_player_kbo_data.dtypes[premier_15_player_kbo_data.dtypes == \"float\"].index.tolist()\n",
    "# float_cols = tokyo_player_kbo_data.dtypes[tokyo_player_kbo_data.dtypes == \"float\"].index.tolist()\n",
    "\n",
    "# 실수 변수들 3째 자리까지 표기\n",
    "premier_player_kbo_data[float_cols] = premier_15_player_kbo_data[float_cols].apply(round, args=(3, ))\n",
    "# tokyo_player_kbo_data[float_cols]   = tokyo_player_kbo_data[float_cols].apply(round, args=(3, ))\n",
    "\n",
    "premier_15_player_kbo_data.head(3)\n",
    "# tokyo_player_kbo_data.head(3)"
   ]
  },
  {
   "cell_type": "code",
   "execution_count": null,
   "id": "ea7d5ac8-6055-4287-b623-4c47d5cfae3c",
   "metadata": {},
   "outputs": [],
   "source": [
    "cols = [\n",
    "    'PLAYER', 'TEAM', 'YEAR', 'RES', 'ORD', 'P', 'SP', 'AB', 'R', \n",
    "    'H', 'B', '2B', '3B', 'HR', 'XBH', 'TB', 'RBI',\n",
    "    'SB', 'CS', 'BB', 'HBP', 'IBB', 'SO', 'GDP', 'SH', 'SF', 'AVG', 'OBP',\n",
    "    'SLG', 'ISOP', 'OPS','GPA','PN', 'avLI', 'RE24', 'WPA'\n",
    "]\n",
    "premier_15_player_kbo_data = premier_15_player_kbo_data[cols]\n",
    "# tokyo_player_kbo_data   = tokyo_player_kbo_data[cols]"
   ]
  },
  {
   "cell_type": "markdown",
   "id": "9403b66e-b181-40c6-92f2-58cabd3db011",
   "metadata": {},
   "source": [
    "# csv 파일 저장"
   ]
  },
  {
   "cell_type": "code",
   "execution_count": null,
   "id": "4c2b1a02-6bcc-45de-a54c-f2a3edad808d",
   "metadata": {},
   "outputs": [],
   "source": [
    "premier_15_path = \"data/2015_premier_player_season.csv\"\n",
    "premier_19_path = \"data/2019_premier_player_season.csv\"\n",
    "# tokyo_path   = \"data/2021_tokyo_player_season.csv\"\n",
    "\n",
    "premier_player_kbo_data.to_csv(premier_15_path, index=False)\n",
    "# premier_player_kbo_data.to_csv(premier_19_path, index=False)\n",
    "# tokyo_player_kbo_data.to_csv(tokyo_path, index=False)"
   ]
  },
  {
   "cell_type": "code",
   "execution_count": null,
   "id": "59d597c0-4ce4-42f1-97a5-ae11676b149c",
   "metadata": {},
   "outputs": [],
   "source": [
    "pd.read_csv(premier_15_path)"
   ]
  },
  {
   "cell_type": "code",
   "execution_count": null,
   "id": "88fc593f-b68b-4e5b-8287-6f82b4bbdb18",
   "metadata": {},
   "outputs": [],
   "source": [
    "pd.read_csv(premier_19_path)"
   ]
  },
  {
   "cell_type": "code",
   "execution_count": null,
   "id": "a9bb5a45-9f27-4e0b-8052-1f663a7277cd",
   "metadata": {},
   "outputs": [],
   "source": [
    "pd.read_csv(tokyo_path)"
   ]
  },
  {
   "cell_type": "code",
   "execution_count": null,
   "id": "fa203b26-6b4b-40d8-8117-99c7c632f34c",
   "metadata": {},
   "outputs": [],
   "source": []
  },
  {
   "cell_type": "code",
   "execution_count": null,
   "id": "bc79b005-3f45-437a-883b-5e665294cc42",
   "metadata": {},
   "outputs": [],
   "source": []
  }
 ],
 "metadata": {
  "kernelspec": {
   "display_name": "Python 3 (ipykernel)",
   "language": "python",
   "name": "python3"
  },
  "language_info": {
   "codemirror_mode": {
    "name": "ipython",
    "version": 3
   },
   "file_extension": ".py",
   "mimetype": "text/x-python",
   "name": "python",
   "nbconvert_exporter": "python",
   "pygments_lexer": "ipython3",
   "version": "3.8.12"
  }
 },
 "nbformat": 4,
 "nbformat_minor": 5
}
